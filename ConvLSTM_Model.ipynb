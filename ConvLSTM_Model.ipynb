{
  "nbformat": 4,
  "nbformat_minor": 0,
  "metadata": {
    "accelerator": "GPU",
    "colab": {
      "name": "ConvLSTM_Model.ipynb",
      "provenance": [],
      "collapsed_sections": []
    },
    "kernelspec": {
      "name": "python3",
      "display_name": "Python 3"
    },
    "language_info": {
      "codemirror_mode": {
        "name": "ipython",
        "version": 3
      },
      "file_extension": ".py",
      "mimetype": "text/x-python",
      "name": "python",
      "nbconvert_exporter": "python",
      "pygments_lexer": "ipython3",
      "version": "3.6.9"
    }
  },
  "cells": [
    {
      "cell_type": "markdown",
      "metadata": {
        "heading_collapsed": true,
        "id": "EAZn-O712Ukq"
      },
      "source": [
        "# Colab Setup"
      ]
    },
    {
      "cell_type": "code",
      "metadata": {
        "hidden": true,
        "id": "_d8IgpFw1vf6",
        "colab": {
          "base_uri": "https://localhost:8080/"
        },
        "outputId": "eddc7589-1a12-482c-b37f-11132c60ef32"
      },
      "source": [
        "!nvidia-smi"
      ],
      "execution_count": null,
      "outputs": [
        {
          "output_type": "stream",
          "text": [
            "Sat Jun 12 09:20:19 2021       \n",
            "+-----------------------------------------------------------------------------+\n",
            "| NVIDIA-SMI 465.27       Driver Version: 460.32.03    CUDA Version: 11.2     |\n",
            "|-------------------------------+----------------------+----------------------+\n",
            "| GPU  Name        Persistence-M| Bus-Id        Disp.A | Volatile Uncorr. ECC |\n",
            "| Fan  Temp  Perf  Pwr:Usage/Cap|         Memory-Usage | GPU-Util  Compute M. |\n",
            "|                               |                      |               MIG M. |\n",
            "|===============================+======================+======================|\n",
            "|   0  Tesla P4            Off  | 00000000:00:04.0 Off |                    0 |\n",
            "| N/A   38C    P8     7W /  75W |      0MiB /  7611MiB |      0%      Default |\n",
            "|                               |                      |                  N/A |\n",
            "+-------------------------------+----------------------+----------------------+\n",
            "                                                                               \n",
            "+-----------------------------------------------------------------------------+\n",
            "| Processes:                                                                  |\n",
            "|  GPU   GI   CI        PID   Type   Process name                  GPU Memory |\n",
            "|        ID   ID                                                   Usage      |\n",
            "|=============================================================================|\n",
            "|  No running processes found                                                 |\n",
            "+-----------------------------------------------------------------------------+\n"
          ],
          "name": "stdout"
        }
      ]
    },
    {
      "cell_type": "code",
      "metadata": {
        "hidden": true,
        "id": "4lCkuTK7-4FD"
      },
      "source": [
        "!pip install gdown --quiet"
      ],
      "execution_count": null,
      "outputs": []
    },
    {
      "cell_type": "code",
      "metadata": {
        "id": "EPkCmLgHXn-S"
      },
      "source": [
        "!pip install scikit-plot --quiet"
      ],
      "execution_count": null,
      "outputs": []
    },
    {
      "cell_type": "markdown",
      "metadata": {
        "id": "nwyNyDYXppfG"
      },
      "source": [
        "# Imports and Data Setup"
      ]
    },
    {
      "cell_type": "code",
      "metadata": {
        "hidden": true,
        "id": "CZZYwGo_2G9A"
      },
      "source": [
        "%reload_ext autoreload\n",
        "%autoreload 2\n",
        "%matplotlib inline"
      ],
      "execution_count": null,
      "outputs": []
    },
    {
      "cell_type": "code",
      "metadata": {
        "hidden": true,
        "id": "4xuGSBqQ2LLF"
      },
      "source": [
        "import numpy as np  \n",
        "import pandas as pd\n",
        "from pathlib import Path\n",
        "import scipy.io\n",
        "import h5py\n",
        "\n",
        "import sklearn.metrics as metrics\n",
        "import matplotlib.pyplot as plt\n",
        "\n",
        "from tensorflow.keras.callbacks import ModelCheckpoint,CSVLogger\n",
        "from tensorflow.keras.models import Model\n",
        "from tensorflow.keras.layers import Conv1D\n",
        "from tensorflow.keras.layers import Input\n",
        "from tensorflow.keras.layers import LSTM\n",
        "from tensorflow.keras.layers import Dropout\n",
        "from tensorflow.keras.layers import MaxPooling1D\n",
        "from tensorflow.keras.layers import Dense\n",
        "from tensorflow.keras.layers import Flatten\n",
        "from tensorflow.keras.initializers import he_normal\n",
        "from tensorflow.keras import optimizers\n",
        "from tensorflow.keras.utils import to_categorical\n",
        "from scipy.signal import resample\n",
        "\n",
        "from scipy.signal import find_peaks as findPeaks\n",
        "from scipy import sparse\n",
        "from scipy.sparse.linalg import spsolve\n",
        "\n",
        "from pathlib import Path\n",
        "import gdown"
      ],
      "execution_count": null,
      "outputs": []
    },
    {
      "cell_type": "code",
      "metadata": {
        "hidden": true,
        "id": "b_OZ3I4KiD71"
      },
      "source": [
        "datapath = Path('./data')"
      ],
      "execution_count": null,
      "outputs": []
    },
    {
      "cell_type": "code",
      "metadata": {
        "hidden": true,
        "id": "fdkXoHjH8kT6",
        "colab": {
          "base_uri": "https://localhost:8080/",
          "height": 35
        },
        "outputId": "9732acb2-782b-4781-872e-67d9650a3334"
      },
      "source": [
        "# Download Raw Data\n",
        "inertial_url = 'https://drive.google.com/uc?export=download&id=1gGd3nq889m9iU8gkyqk1YHLOqmR31VWb'\n",
        "inertial_file = 'Inertial.zip'\n",
        "\n",
        "skeleton_url = 'https://drive.google.com/uc?export=download&id=1rvnhTitWIWF-9biYyzzGXXcaY5BXecV1'\n",
        "skeleton_file = 'Skeleton.zip'\n",
        "\n",
        "gdown.download(inertial_url, inertial_file, quiet=True)\n",
        "gdown.download(skeleton_url, skeleton_file, quiet=True)"
      ],
      "execution_count": null,
      "outputs": [
        {
          "output_type": "execute_result",
          "data": {
            "application/vnd.google.colaboratory.intrinsic+json": {
              "type": "string"
            },
            "text/plain": [
              "'Skeleton.zip'"
            ]
          },
          "metadata": {
            "tags": []
          },
          "execution_count": 7
        }
      ]
    },
    {
      "cell_type": "code",
      "metadata": {
        "hidden": true,
        "id": "F1cw6hA9ffB-"
      },
      "source": [
        "!unzip -qq ./Inertial.zip -d ./data/"
      ],
      "execution_count": null,
      "outputs": []
    },
    {
      "cell_type": "code",
      "metadata": {
        "hidden": true,
        "id": "fm_qeJuwfiTI"
      },
      "source": [
        "!unzip -qq ./Skeleton.zip -d ./data/"
      ],
      "execution_count": null,
      "outputs": []
    },
    {
      "cell_type": "markdown",
      "metadata": {
        "id": "SXEYQqZA6cHa"
      },
      "source": [
        "# Process Dataset"
      ]
    },
    {
      "cell_type": "markdown",
      "metadata": {
        "id": "yQKFyH0k2R1h"
      },
      "source": [
        "## Process Inertia Data"
      ]
    },
    {
      "cell_type": "code",
      "metadata": {
        "id": "tec7c4Mp5H4S"
      },
      "source": [
        "def import_data(file_type, action, subject, trial):\n",
        "    filename = datapath/f'{file_type}/a{action}_s{subject}_t{trial}_{file_type.lower()}.mat'\n",
        "    if Path(filename).is_file():\n",
        "        mat = scipy.io.loadmat(filename)\n",
        "        if file_type.lower() == 'inertial':\n",
        "            return mat['d_iner']\n",
        "        else:\n",
        "            return mat['d_skel']\n",
        "    else:\n",
        "        return None"
      ],
      "execution_count": null,
      "outputs": []
    },
    {
      "cell_type": "code",
      "metadata": {
        "id": "Xz4bKtDnoctI"
      },
      "source": [
        "def calculate_angle(point1,point2,point3):\n",
        "\n",
        "\n",
        "    point2_1 = point1 - point2\n",
        "    point2_3 = point3 - point2\n",
        "\n",
        "    cosine_angle = np.dot(point2_1, point2_3) / (np.linalg.norm(point2_1) * np.linalg.norm(point2_3))\n",
        "    angle = np.arccos(cosine_angle)\n",
        "    angle = np.degrees(angle)\n",
        "\n",
        "    return angle"
      ],
      "execution_count": null,
      "outputs": []
    },
    {
      "cell_type": "code",
      "metadata": {
        "id": "vsZJppG_6eI3",
        "colab": {
          "base_uri": "https://localhost:8080/"
        },
        "outputId": "fad689f1-fd2f-4434-bf19-2246c4badc80"
      },
      "source": [
        "# Importing Inertia Data 6 Features\n",
        "\n",
        "def merge_inertial():\n",
        "\n",
        "    i_trDat = []\n",
        "    i_trLbl = []\n",
        "    i_tsDat = []\n",
        "    i_tsLbl = []\n",
        "\n",
        "    index1 = 0\n",
        "    index2 = 0\n",
        "    counter = 0\n",
        "    subject = 0\n",
        "    for i in range (864):\n",
        "        \n",
        "        if counter == 32:\n",
        "            counter = 0\n",
        "        subject = int((counter-counter%4)/4+1)\n",
        "        counter = counter + 1\n",
        "        action = int((i-i%32)/32+1)\n",
        "        take = i%4+1\n",
        "        \n",
        "        data = import_data('Inertial',action,subject,take)\n",
        "        \n",
        "        if data is not None:\n",
        "                                          \n",
        "            if subject == 2 or subject == 4 or subject == 6 or subject == 8:\n",
        "                i_tsDat.append(resample(data, 180))\n",
        "                i_tsLbl.append(action-1)\n",
        "                index1 = index1 + 1 \n",
        "            elif subject == 1 or subject == 3 or subject == 5 or subject == 7:\n",
        "                i_trDat.append(resample(data, 180))\n",
        "                i_trLbl.append(action-1)\n",
        "                index2 = index2 + 1\n",
        "\n",
        "    i_trDat = np.array(i_trDat)\n",
        "    i_trLbl = np.array(i_trLbl)\n",
        "    i_tsDat = np.array(i_tsDat)\n",
        "    i_tsLbl = np.array(i_tsLbl)\n",
        "                \n",
        "    return i_trDat, i_trLbl, i_tsDat, i_tsLbl\n",
        "\n",
        "i_trDat, i_trLbl, i_tsDat, i_tsLbl = merge_inertial()\n",
        "\n",
        "\n",
        "i_trLbl = to_categorical(i_trLbl)\n",
        "i_tsLbl = to_categorical(i_tsLbl)\n",
        "\n",
        "print(i_trDat.shape)\n",
        "print(i_trLbl.shape)\n",
        "print(i_tsDat.shape)\n",
        "print(i_tsLbl.shape)\n"
      ],
      "execution_count": null,
      "outputs": [
        {
          "output_type": "stream",
          "text": [
            "(431, 180, 6)\n",
            "(431, 27)\n",
            "(430, 180, 6)\n",
            "(430, 27)\n"
          ],
          "name": "stdout"
        }
      ]
    },
    {
      "cell_type": "markdown",
      "metadata": {
        "id": "xSuYMOYiFIVV"
      },
      "source": [
        "## Process Skeleton Data"
      ]
    },
    {
      "cell_type": "code",
      "metadata": {
        "id": "NfAf9CB85Wth",
        "colab": {
          "base_uri": "https://localhost:8080/"
        },
        "outputId": "4b565398-560e-4b40-f92c-67ef92f333e8"
      },
      "source": [
        "def merge_skeleton():\n",
        "\n",
        "    reshaped_data = np.zeros([861,116,60])\n",
        "    sa_trDat = []\n",
        "    trLbl = []\n",
        "    sa_tsDat = []\n",
        "    tsLbl = []\n",
        " \n",
        "    index = 0\n",
        "    counter = 0\n",
        "    subject = 0\n",
        "\n",
        "    for i in range (864):\n",
        "        if counter == 32:\n",
        "            counter = 0\n",
        "        subject = int((counter-counter%4)/4+1)\n",
        "        counter = counter + 1\n",
        "        action = int((i-i%32)/32+1)\n",
        "        take = i%4+1\n",
        "        \n",
        "        data = import_data('Skeleton',action,subject,take)\n",
        "        \n",
        "        if data is not None:\n",
        "                        \n",
        "            temp_array = np.zeros([data.shape[2],60])\n",
        "            temp_array_angle = np.zeros([data.shape[2],16])\n",
        "            for j in range (data.shape[2]):\n",
        "                temp_array[j,:] = data[:,:,j].flatten()\n",
        "                \n",
        "                temp_array_angle[j,0]= calculate_angle(temp_array[j,0:2],temp_array[j,3:5],temp_array[j,6:8])             #head_spine_angle\n",
        "                temp_array_angle[j,1]= calculate_angle(temp_array[j,3:5],temp_array[j,6:8],temp_array[j,9:11])            #spine_angle\n",
        "                temp_array_angle[j,2]= calculate_angle(temp_array[j,15:17],temp_array[j,18:20],temp_array[j,21:23])       #left_wrist_angle\n",
        "                temp_array_angle[j,3]= calculate_angle(temp_array[j,13:14],temp_array[j,15:17],temp_array[j,18:20])       #left_elbow_angle\n",
        "                temp_array_angle[j,4]= calculate_angle(temp_array[j,3:5],temp_array[j,12:14],temp_array[j,15:17])         #left_shoulder_angle\n",
        "                temp_array_angle[j,5]= calculate_angle(temp_array[j,39:41],temp_array[j,42:44],temp_array[j,45:47])       #left_ankle_angle\n",
        "                temp_array_angle[j,6]= calculate_angle(temp_array[j,36:38],temp_array[j,39:41],temp_array[j,42:44])       #left_knee_angle\n",
        "                temp_array_angle[j,7]= calculate_angle(temp_array[j,9:11],temp_array[j,36:38],temp_array[j,39:41])        #left_hip_angle\n",
        "                temp_array_angle[j,8]= calculate_angle(temp_array[j,0:2],temp_array[j,3:5],temp_array[j,12:14])           #left_shoulder_head_angle\n",
        "                temp_array_angle[j,9]= calculate_angle(temp_array[j,27:29],temp_array[j,30:32],temp_array[j,33:35])       #right_wrist_angle\n",
        "                temp_array_angle[j,10]= calculate_angle(temp_array[j,24:26],temp_array[j,27:29],temp_array[j,30:32])      #right_elbow_angle\n",
        "                temp_array_angle[j,11]= calculate_angle(temp_array[j,3:5],temp_array[j,24:26],temp_array[j,27:29])        #right_shoulder_angle\n",
        "                temp_array_angle[j,12]= calculate_angle(temp_array[j,51:53],temp_array[j,54:56],temp_array[j,57:59])      #right_ankle_angle\n",
        "                temp_array_angle[j,13]= calculate_angle(temp_array[j,48:50],temp_array[j,51:53],temp_array[j,54:56])      #right_knee_angle\n",
        "                temp_array_angle[j,14]= calculate_angle(temp_array[j,9:11],temp_array[j,48:50],temp_array[j,51:53])       #right_hip_angle\n",
        "                temp_array_angle[j,15]= calculate_angle(temp_array[j,0:2],temp_array[j,3:5],temp_array[j,24:26])          #right_shoulder_head_angle\n",
        "\n",
        "            \n",
        "            if subject == 2 or subject == 4 or subject == 6 or subject == 8:\n",
        "                \n",
        "                sa_tsDat.append(resample(temp_array_angle,180))\n",
        "                tsLbl.append(action-1)\n",
        "               \n",
        "            elif subject == 1 or subject == 3 or subject == 5 or subject == 7:\n",
        "\n",
        "                sa_trDat.append(resample(temp_array_angle,180))\n",
        "                trLbl.append(action-1)\n",
        "       \n",
        "                \n",
        "            index = index + 1\n",
        "   \n",
        "    sa_trDat = np.array(sa_trDat)\n",
        "    trLbl = np.array(trLbl)\n",
        "    sa_tsDat = np.array(sa_tsDat)\n",
        "    tsLbl = np.array(tsLbl)\n",
        " \n",
        "    return sa_trDat, trLbl, sa_tsDat, tsLbl\n",
        "\n",
        "sa_trDat, trLbl, sa_tsDat, tsLbl = merge_skeleton()\n",
        "\n",
        "trLbl = to_categorical(trLbl)\n",
        "tsLbl = to_categorical(tsLbl)\n",
        "\n",
        "print(sa_trDat.shape)\n",
        "print(trLbl.shape)\n",
        "print(sa_tsDat.shape)\n",
        "print(tsLbl.shape)\n"
      ],
      "execution_count": null,
      "outputs": [
        {
          "output_type": "stream",
          "text": [
            "(431, 180, 16)\n",
            "(431, 27)\n",
            "(430, 180, 16)\n",
            "(430, 27)\n"
          ],
          "name": "stdout"
        }
      ]
    },
    {
      "cell_type": "markdown",
      "metadata": {
        "id": "ezfaxZ-zFM7-"
      },
      "source": [
        "## Concatenate"
      ]
    },
    {
      "cell_type": "code",
      "metadata": {
        "id": "g8TaQOWXoctN",
        "colab": {
          "base_uri": "https://localhost:8080/"
        },
        "outputId": "46651c7b-1b45-4286-f153-5d04f31d5574"
      },
      "source": [
        "trDat = np.concatenate((sa_trDat, i_trDat), axis = -1)\n",
        "tsDat = np.concatenate((sa_tsDat, i_tsDat), axis = -1)\n",
        "\n",
        "print(trDat.shape)\n",
        "print(trLbl.shape)\n",
        "print(tsDat.shape)\n",
        "print(tsLbl.shape)"
      ],
      "execution_count": null,
      "outputs": [
        {
          "output_type": "stream",
          "text": [
            "(431, 180, 22)\n",
            "(431, 27)\n",
            "(430, 180, 22)\n",
            "(430, 27)\n"
          ],
          "name": "stdout"
        }
      ]
    },
    {
      "cell_type": "markdown",
      "metadata": {
        "id": "iPN0gIRtFTme"
      },
      "source": [
        "# Train ConvLSTM Model"
      ]
    },
    {
      "cell_type": "code",
      "metadata": {
        "id": "HkYCnJuj7Ifq",
        "colab": {
          "base_uri": "https://localhost:8080/"
        },
        "outputId": "6d10cc79-2618-49c0-df45-405479964b04"
      },
      "source": [
        "from tensorflow.keras.optimizers import Adam\n",
        "from tensorflow.keras.models import Sequential\n",
        "\n",
        "def conv_LSTM():\n",
        "    np.random.seed(7)\n",
        "    optimizer = Adam(lr=1e-4, decay=1e-6, clipnorm=0.6)\n",
        "    model = Sequential(name = 'conv_LSTM')\n",
        "    model.add(Conv1D(128,\n",
        "                     4,\n",
        "                     padding='valid',\n",
        "                     activation='relu',\n",
        "                     strides=1,\n",
        "                    input_shape=(180,22)))\n",
        "    model.add(Conv1D(64,\n",
        "                     4,\n",
        "                     padding='valid',\n",
        "                     activation='relu',\n",
        "                     strides=1))\n",
        "    model.add(Conv1D(64,\n",
        "                     4,\n",
        "                     padding='valid',\n",
        "                     activation='relu',\n",
        "                     strides=1))\n",
        "    model.add(Conv1D(64,\n",
        "                     4,\n",
        "                     padding='valid',\n",
        "                     activation='relu',\n",
        "                     strides=1))\n",
        "    model.add(LSTM(256, return_sequences=True, dropout=0.2, recurrent_dropout=0.2))\n",
        "    model.add(LSTM(256, return_sequences=True, dropout=0.2, recurrent_dropout=0.2))\n",
        "    model.add(Flatten())\n",
        "    model.add(Dropout(0.3))\n",
        "    model.add(Dense(len(list(range(1,28))), activation='softmax'))\n",
        "    model.compile(loss='categorical_crossentropy', optimizer=optimizer, metrics=['accuracy'])\n",
        "    print(model.summary())\n",
        "    return model\n",
        "    \n",
        "LSTM = conv_LSTM()"
      ],
      "execution_count": null,
      "outputs": [
        {
          "output_type": "stream",
          "text": [
            "/usr/local/lib/python3.7/dist-packages/tensorflow/python/keras/optimizer_v2/optimizer_v2.py:375: UserWarning: The `lr` argument is deprecated, use `learning_rate` instead.\n",
            "  \"The `lr` argument is deprecated, use `learning_rate` instead.\")\n"
          ],
          "name": "stderr"
        },
        {
          "output_type": "stream",
          "text": [
            "WARNING:tensorflow:Layer lstm will not use cuDNN kernels since it doesn't meet the criteria. It will use a generic GPU kernel as fallback when running on GPU.\n",
            "WARNING:tensorflow:Layer lstm_1 will not use cuDNN kernels since it doesn't meet the criteria. It will use a generic GPU kernel as fallback when running on GPU.\n",
            "Model: \"conv_LSTM\"\n",
            "_________________________________________________________________\n",
            "Layer (type)                 Output Shape              Param #   \n",
            "=================================================================\n",
            "conv1d (Conv1D)              (None, 177, 128)          11392     \n",
            "_________________________________________________________________\n",
            "conv1d_1 (Conv1D)            (None, 174, 64)           32832     \n",
            "_________________________________________________________________\n",
            "conv1d_2 (Conv1D)            (None, 171, 64)           16448     \n",
            "_________________________________________________________________\n",
            "conv1d_3 (Conv1D)            (None, 168, 64)           16448     \n",
            "_________________________________________________________________\n",
            "lstm (LSTM)                  (None, 168, 256)          328704    \n",
            "_________________________________________________________________\n",
            "lstm_1 (LSTM)                (None, 168, 256)          525312    \n",
            "_________________________________________________________________\n",
            "flatten (Flatten)            (None, 43008)             0         \n",
            "_________________________________________________________________\n",
            "dropout (Dropout)            (None, 43008)             0         \n",
            "_________________________________________________________________\n",
            "dense (Dense)                (None, 27)                1161243   \n",
            "=================================================================\n",
            "Total params: 2,092,379\n",
            "Trainable params: 2,092,379\n",
            "Non-trainable params: 0\n",
            "_________________________________________________________________\n",
            "None\n"
          ],
          "name": "stdout"
        }
      ]
    },
    {
      "cell_type": "code",
      "metadata": {
        "id": "dlgXOZKf7IFh",
        "colab": {
          "base_uri": "https://localhost:8080/"
        },
        "outputId": "b2764148-17ff-4501-e4ec-d96f9dd8e831"
      },
      "source": [
        "baseline = LSTM.fit(trDat, trLbl, epochs=20, batch_size=4, validation_data = (tsDat, tsLbl))"
      ],
      "execution_count": null,
      "outputs": [
        {
          "output_type": "stream",
          "text": [
            "Epoch 1/20\n",
            "108/108 [==============================] - 155s 1s/step - loss: 2.7733 - accuracy: 0.2343 - val_loss: 1.5049 - val_accuracy: 0.5465\n",
            "Epoch 2/20\n",
            "108/108 [==============================] - 120s 1s/step - loss: 0.7375 - accuracy: 0.7889 - val_loss: 1.0228 - val_accuracy: 0.7047\n",
            "Epoch 3/20\n",
            "108/108 [==============================] - 121s 1s/step - loss: 0.2508 - accuracy: 0.9258 - val_loss: 1.0429 - val_accuracy: 0.7163\n",
            "Epoch 4/20\n",
            "108/108 [==============================] - 123s 1s/step - loss: 0.1102 - accuracy: 0.9675 - val_loss: 0.7096 - val_accuracy: 0.8047\n",
            "Epoch 5/20\n",
            "108/108 [==============================] - 120s 1s/step - loss: 0.0414 - accuracy: 0.9884 - val_loss: 0.8262 - val_accuracy: 0.7814\n",
            "Epoch 6/20\n",
            "108/108 [==============================] - 123s 1s/step - loss: 0.0233 - accuracy: 0.9930 - val_loss: 0.9223 - val_accuracy: 0.7837\n",
            "Epoch 7/20\n",
            "108/108 [==============================] - 123s 1s/step - loss: 0.0207 - accuracy: 0.9930 - val_loss: 1.0615 - val_accuracy: 0.7721\n",
            "Epoch 8/20\n",
            "108/108 [==============================] - 121s 1s/step - loss: 0.0038 - accuracy: 1.0000 - val_loss: 0.7022 - val_accuracy: 0.8442\n",
            "Epoch 9/20\n",
            "108/108 [==============================] - 120s 1s/step - loss: 0.0028 - accuracy: 1.0000 - val_loss: 0.6894 - val_accuracy: 0.8372\n",
            "Epoch 10/20\n",
            "108/108 [==============================] - 120s 1s/step - loss: 0.0231 - accuracy: 0.9930 - val_loss: 0.6688 - val_accuracy: 0.8302\n",
            "Epoch 11/20\n",
            "108/108 [==============================] - 120s 1s/step - loss: 0.0078 - accuracy: 0.9977 - val_loss: 0.8920 - val_accuracy: 0.7977\n",
            "Epoch 12/20\n",
            "108/108 [==============================] - 120s 1s/step - loss: 1.1173e-04 - accuracy: 1.0000 - val_loss: 0.6431 - val_accuracy: 0.8372\n",
            "Epoch 13/20\n",
            "108/108 [==============================] - 120s 1s/step - loss: 1.2170e-04 - accuracy: 1.0000 - val_loss: 0.6881 - val_accuracy: 0.8372\n",
            "Epoch 14/20\n",
            "108/108 [==============================] - 120s 1s/step - loss: 0.0034 - accuracy: 0.9977 - val_loss: 0.7083 - val_accuracy: 0.8372\n",
            "Epoch 15/20\n",
            "108/108 [==============================] - 122s 1s/step - loss: 1.0448e-04 - accuracy: 1.0000 - val_loss: 0.7143 - val_accuracy: 0.8256\n",
            "Epoch 16/20\n",
            "108/108 [==============================] - 120s 1s/step - loss: 9.0287e-04 - accuracy: 1.0000 - val_loss: 0.9298 - val_accuracy: 0.8070\n",
            "Epoch 17/20\n",
            "108/108 [==============================] - 123s 1s/step - loss: 0.0047 - accuracy: 1.0000 - val_loss: 1.1150 - val_accuracy: 0.7605\n",
            "Epoch 18/20\n",
            "108/108 [==============================] - 121s 1s/step - loss: 0.0172 - accuracy: 0.9930 - val_loss: 0.9995 - val_accuracy: 0.7907\n",
            "Epoch 19/20\n",
            "108/108 [==============================] - 121s 1s/step - loss: 0.0241 - accuracy: 0.9954 - val_loss: 0.9101 - val_accuracy: 0.8163\n",
            "Epoch 20/20\n",
            "108/108 [==============================] - 121s 1s/step - loss: 0.0046 - accuracy: 0.9977 - val_loss: 0.8746 - val_accuracy: 0.8419\n"
          ],
          "name": "stdout"
        }
      ]
    },
    {
      "cell_type": "markdown",
      "metadata": {
        "id": "WBRJI_N0FdGf"
      },
      "source": [
        "# Evaluate"
      ]
    },
    {
      "cell_type": "code",
      "metadata": {
        "id": "oi8WV5S38q_c"
      },
      "source": [
        "pred_1 = np.argmax(LSTM.predict(tsDat), axis = -1)"
      ],
      "execution_count": null,
      "outputs": []
    },
    {
      "cell_type": "code",
      "metadata": {
        "id": "F-UOb8SC-bzJ",
        "colab": {
          "base_uri": "https://localhost:8080/"
        },
        "outputId": "fb7dd492-c3ea-4fe8-976d-7d9532ae55e1"
      },
      "source": [
        "from sklearn.metrics import classification_report, accuracy_score\n",
        "print(classification_report(np.argmax(tsLbl, axis = -1),pred_1))  \n",
        "print(accuracy_score(np.argmax(tsLbl, axis = -1), pred_1)) "
      ],
      "execution_count": null,
      "outputs": [
        {
          "output_type": "stream",
          "text": [
            "              precision    recall  f1-score   support\n",
            "\n",
            "           0       0.62      0.94      0.75        16\n",
            "           1       1.00      0.69      0.81        16\n",
            "           2       0.88      0.94      0.91        16\n",
            "           3       0.62      0.81      0.70        16\n",
            "           4       0.82      0.56      0.67        16\n",
            "           5       0.76      1.00      0.86        16\n",
            "           6       0.74      0.88      0.80        16\n",
            "           7       0.75      0.94      0.83        16\n",
            "           8       1.00      0.81      0.90        16\n",
            "           9       0.67      0.75      0.71        16\n",
            "          10       1.00      0.75      0.86        16\n",
            "          11       0.88      0.94      0.91        16\n",
            "          12       0.83      0.94      0.88        16\n",
            "          13       0.94      1.00      0.97        16\n",
            "          14       1.00      0.69      0.81        16\n",
            "          15       1.00      1.00      1.00        16\n",
            "          16       0.93      0.88      0.90        16\n",
            "          17       0.79      0.69      0.73        16\n",
            "          18       0.73      0.50      0.59        16\n",
            "          19       1.00      0.56      0.72        16\n",
            "          20       1.00      0.88      0.93        16\n",
            "          21       0.80      0.75      0.77        16\n",
            "          22       0.64      0.93      0.76        15\n",
            "          23       1.00      1.00      1.00        16\n",
            "          24       1.00      0.94      0.97        16\n",
            "          25       1.00      1.00      1.00        16\n",
            "          26       0.88      1.00      0.94        15\n",
            "\n",
            "    accuracy                           0.84       430\n",
            "   macro avg       0.86      0.84      0.84       430\n",
            "weighted avg       0.86      0.84      0.84       430\n",
            "\n",
            "0.8418604651162791\n"
          ],
          "name": "stdout"
        }
      ]
    },
    {
      "cell_type": "code",
      "metadata": {
        "id": "vfKEalVB-i0Q",
        "colab": {
          "base_uri": "https://localhost:8080/",
          "height": 983
        },
        "outputId": "f51c5996-408a-436d-e658-e1ee85931447"
      },
      "source": [
        "import scikitplot as skplt\n",
        "skplt.metrics.plot_confusion_matrix(np.argmax(tsLbl, axis = -1), pred_1, normalize=True, figsize=(17,17))"
      ],
      "execution_count": null,
      "outputs": [
        {
          "output_type": "execute_result",
          "data": {
            "text/plain": [
              "<matplotlib.axes._subplots.AxesSubplot at 0x7f911a0c40d0>"
            ]
          },
          "metadata": {
            "tags": []
          },
          "execution_count": 19
        },
        {
          "output_type": "display_data",
          "data": {
            "image/png": "[encoded data removed]",
            "text/plain": [
              "<Figure size 1224x1224 with 2 Axes>"
            ]
          },
          "metadata": {
            "tags": [],
            "needs_background": "light"
          }
        }
      ]
    }
  ]
}