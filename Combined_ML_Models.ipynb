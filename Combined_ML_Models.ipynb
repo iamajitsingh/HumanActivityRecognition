{
  "nbformat": 4,
  "nbformat_minor": 0,
  "metadata": {
    "accelerator": "GPU",
    "colab": {
      "name": "Combined_ML_Models.ipynb",
      "provenance": [],
      "collapsed_sections": [
        "gnCz9Sjuoctd",
        "z2BQvZ1Loctp"
      ]
    },
    "kernelspec": {
      "display_name": "Python 3",
      "language": "python",
      "name": "python3"
    },
    "language_info": {
      "codemirror_mode": {
        "name": "ipython",
        "version": 3
      },
      "file_extension": ".py",
      "mimetype": "text/x-python",
      "name": "python",
      "nbconvert_exporter": "python",
      "pygments_lexer": "ipython3",
      "version": "3.6.9"
    }
  },
  "cells": [
    {
      "cell_type": "markdown",
      "metadata": {
        "heading_collapsed": true,
        "id": "EAZn-O712Ukq"
      },
      "source": [
        "**Colab Setup** "
      ]
    },
    {
      "cell_type": "code",
      "metadata": {
        "hidden": true,
        "id": "_d8IgpFw1vf6",
        "colab": {
          "base_uri": "https://localhost:8080/"
        },
        "outputId": "894afe71-b17f-45d4-809f-5e28702ae833"
      },
      "source": [
        "!nvidia-smi"
      ],
      "execution_count": null,
      "outputs": [
        {
          "output_type": "stream",
          "text": [
            "Fri Jun  4 16:01:50 2021       \n",
            "+-----------------------------------------------------------------------------+\n",
            "| NVIDIA-SMI 465.27       Driver Version: 460.32.03    CUDA Version: 11.2     |\n",
            "|-------------------------------+----------------------+----------------------+\n",
            "| GPU  Name        Persistence-M| Bus-Id        Disp.A | Volatile Uncorr. ECC |\n",
            "| Fan  Temp  Perf  Pwr:Usage/Cap|         Memory-Usage | GPU-Util  Compute M. |\n",
            "|                               |                      |               MIG M. |\n",
            "|===============================+======================+======================|\n",
            "|   0  Tesla T4            Off  | 00000000:00:04.0 Off |                    0 |\n",
            "| N/A   49C    P8    13W /  70W |      0MiB / 15109MiB |      0%      Default |\n",
            "|                               |                      |                  N/A |\n",
            "+-------------------------------+----------------------+----------------------+\n",
            "                                                                               \n",
            "+-----------------------------------------------------------------------------+\n",
            "| Processes:                                                                  |\n",
            "|  GPU   GI   CI        PID   Type   Process name                  GPU Memory |\n",
            "|        ID   ID                                                   Usage      |\n",
            "|=============================================================================|\n",
            "|  No running processes found                                                 |\n",
            "+-----------------------------------------------------------------------------+\n"
          ],
          "name": "stdout"
        }
      ]
    },
    {
      "cell_type": "code",
      "metadata": {
        "hidden": true,
        "id": "4lCkuTK7-4FD"
      },
      "source": [
        "!pip install gdown --quiet"
      ],
      "execution_count": null,
      "outputs": []
    },
    {
      "cell_type": "code",
      "metadata": {
        "id": "9Sa2T8sicfh3"
      },
      "source": [
        "!pip install scikit-plot --quiet"
      ],
      "execution_count": null,
      "outputs": []
    },
    {
      "cell_type": "markdown",
      "metadata": {
        "id": "nwyNyDYXppfG"
      },
      "source": [
        "# Imports and Data Setup"
      ]
    },
    {
      "cell_type": "code",
      "metadata": {
        "hidden": true,
        "id": "CZZYwGo_2G9A"
      },
      "source": [
        "%reload_ext autoreload\n",
        "%autoreload 2\n",
        "%matplotlib inline"
      ],
      "execution_count": null,
      "outputs": []
    },
    {
      "cell_type": "code",
      "metadata": {
        "hidden": true,
        "id": "4xuGSBqQ2LLF"
      },
      "source": [
        "import numpy as np  \n",
        "import pandas as pd\n",
        "from pathlib import Path\n",
        "import scipy.io\n",
        "import h5py\n",
        "\n",
        "import sklearn.metrics as metrics\n",
        "import matplotlib.pyplot as plt\n",
        "\n",
        "from tensorflow.keras.callbacks import ModelCheckpoint,CSVLogger\n",
        "from tensorflow.keras.models import Model\n",
        "from tensorflow.keras.layers import Conv1D\n",
        "from tensorflow.keras.layers import Input\n",
        "from tensorflow.keras.layers import LSTM\n",
        "from tensorflow.keras.layers import Dropout\n",
        "from tensorflow.keras.layers import MaxPooling1D\n",
        "from tensorflow.keras.layers import Dense\n",
        "from tensorflow.keras.layers import Flatten\n",
        "from tensorflow.keras.initializers import he_normal\n",
        "from tensorflow.keras import optimizers\n",
        "from tensorflow.keras.utils import to_categorical\n",
        "from scipy.signal import resample\n",
        "\n",
        "from scipy.signal import find_peaks as findPeaks\n",
        "from scipy import sparse\n",
        "from scipy.sparse.linalg import spsolve\n",
        "\n",
        "from pathlib import Path\n",
        "import gdown\n",
        "\n",
        "import scikitplot as skplt"
      ],
      "execution_count": null,
      "outputs": []
    },
    {
      "cell_type": "code",
      "metadata": {
        "hidden": true,
        "id": "b_OZ3I4KiD71"
      },
      "source": [
        "datapath = Path('./data')"
      ],
      "execution_count": null,
      "outputs": []
    },
    {
      "cell_type": "code",
      "metadata": {
        "hidden": true,
        "id": "fdkXoHjH8kT6",
        "colab": {
          "base_uri": "https://localhost:8080/",
          "height": 35
        },
        "outputId": "cda9abba-17ef-4ae5-f78d-da675fbd548a"
      },
      "source": [
        "# Download Raw Data\n",
        "inertial_url = 'https://drive.google.com/uc?export=download&id=1gGd3nq889m9iU8gkyqk1YHLOqmR31VWb'\n",
        "inertial_file = 'Inertial.zip'\n",
        "\n",
        "skeleton_url = 'https://drive.google.com/uc?export=download&id=1rvnhTitWIWF-9biYyzzGXXcaY5BXecV1'\n",
        "skeleton_file = 'Skeleton.zip'\n",
        "\n",
        "gdown.download(inertial_url, inertial_file, quiet=True)\n",
        "gdown.download(skeleton_url, skeleton_file, quiet=True)"
      ],
      "execution_count": null,
      "outputs": [
        {
          "output_type": "execute_result",
          "data": {
            "application/vnd.google.colaboratory.intrinsic+json": {
              "type": "string"
            },
            "text/plain": [
              "'Skeleton.zip'"
            ]
          },
          "metadata": {
            "tags": []
          },
          "execution_count": 7
        }
      ]
    },
    {
      "cell_type": "code",
      "metadata": {
        "hidden": true,
        "id": "F1cw6hA9ffB-"
      },
      "source": [
        "!unzip -qq ./Inertial.zip -d ./data/"
      ],
      "execution_count": null,
      "outputs": []
    },
    {
      "cell_type": "code",
      "metadata": {
        "hidden": true,
        "id": "fm_qeJuwfiTI"
      },
      "source": [
        "!unzip -qq ./Skeleton.zip -d ./data/"
      ],
      "execution_count": null,
      "outputs": []
    },
    {
      "cell_type": "markdown",
      "metadata": {
        "id": "SXEYQqZA6cHa"
      },
      "source": [
        "# Process Dataset"
      ]
    },
    {
      "cell_type": "markdown",
      "metadata": {
        "id": "yQKFyH0k2R1h"
      },
      "source": [
        "## Process Skeleton Data"
      ]
    },
    {
      "cell_type": "code",
      "metadata": {
        "id": "tec7c4Mp5H4S"
      },
      "source": [
        "def import_data(file_type, action, subject, trial):\n",
        "    filename = datapath/f'{file_type}/a{action}_s{subject}_t{trial}_{file_type.lower()}.mat'\n",
        "    if Path(filename).is_file():\n",
        "        mat = scipy.io.loadmat(filename)\n",
        "        if file_type.lower() == 'inertial':\n",
        "            return mat['d_iner']\n",
        "        else:\n",
        "            return mat['d_skel']\n",
        "    else:\n",
        "        return None"
      ],
      "execution_count": null,
      "outputs": []
    },
    {
      "cell_type": "code",
      "metadata": {
        "id": "Xz4bKtDnoctI"
      },
      "source": [
        "def calculate_angle(point1,point2,point3):\n",
        "\n",
        "\n",
        "    point2_1 = point1 - point2\n",
        "    point2_3 = point3 - point2\n",
        "\n",
        "    cosine_angle = np.dot(point2_1, point2_3) / (np.linalg.norm(point2_1) * np.linalg.norm(point2_3))\n",
        "    angle = np.arccos(cosine_angle)\n",
        "    angle = np.degrees(angle)\n",
        "\n",
        "    return angle"
      ],
      "execution_count": null,
      "outputs": []
    },
    {
      "cell_type": "code",
      "metadata": {
        "id": "BzwrTl3doctK",
        "colab": {
          "base_uri": "https://localhost:8080/"
        },
        "outputId": "949f4583-ed8b-4b41-f14b-7254e69fc86d"
      },
      "source": [
        "# Importing Skeleton Data Variance\n",
        "def process_skeleton_angles():\n",
        "\n",
        "    reshaped_data = np.zeros([861,116,60])\n",
        "    trDat = []\n",
        "    trLbl = []\n",
        "    tsDat = []\n",
        "    tsLbl = []\n",
        " \n",
        "    index = 0\n",
        "    counter = 0\n",
        "    subject = 0\n",
        "\n",
        "    for i in range (864):\n",
        "        \n",
        "        if counter == 32:\n",
        "            counter = 0\n",
        "        subject = int((counter-counter%4)/4+1)\n",
        "        counter = counter + 1\n",
        "        action = int((i-i%32)/32+1)\n",
        "        take = i%4+1\n",
        "        \n",
        "        data = import_data('Skeleton',action,subject,take)\n",
        "        \n",
        "        \n",
        "        if data is not None:\n",
        "                        \n",
        "            temp_array = np.zeros([data.shape[2],60])\n",
        "            temp_array_angle = np.zeros([12,data.shape[2]])\n",
        "            \n",
        "            for j in range (data.shape[2]):\n",
        "                temp_array[j,:] = data[:,:,j].flatten()\n",
        "                \n",
        "                temp_array_angle[0,j]= calculate_angle(temp_array[j,0:2],temp_array[j,3:5],temp_array[j,6:8]) #head_spine_angle\n",
        "                temp_array_angle[1,j]= calculate_angle(temp_array[j,3:5],temp_array[j,6:8],temp_array[j,9:11]) #spine_angle\n",
        "                \n",
        "                temp_array_angle[2,j]= calculate_angle(temp_array[j,15:17],temp_array[j,18:20],temp_array[j,21:23]) #left_wrist_angle\n",
        "                temp_array_angle[3,j]= calculate_angle(temp_array[j,13:14],temp_array[j,15:17],temp_array[j,18:20]) #left_elbow_angle\n",
        "                temp_array_angle[4,j]= calculate_angle(temp_array[j,3:5],temp_array[j,12:14],temp_array[j,15:17]) #left_shoulder_angle\n",
        "                #temp_array_angle[5,j]= calculate_angle(temp_array[j,39:41],temp_array[j,42:44],temp_array[j,45:47]) #left_ankle_angle\n",
        "                temp_array_angle[5,j]= calculate_angle(temp_array[j,36:38],temp_array[j,39:41],temp_array[j,42:44]) #left_knee_angle\n",
        "                temp_array_angle[6,j]= calculate_angle(temp_array[j,9:11],temp_array[j,36:38],temp_array[j,39:41]) #left_hip_angle\n",
        "                #temp_array_angle[7,j]= calculate_angle(temp_array[j,0:2],temp_array[j,3:5],temp_array[j,12:14]) #left_shoulder_head_angle\n",
        "                temp_array_angle[7,j]= calculate_angle(temp_array[j,27:29],temp_array[j,30:32],temp_array[j,33:35]) #right_wrist_angle\n",
        "                temp_array_angle[8,j]= calculate_angle(temp_array[j,24:26],temp_array[j,27:29],temp_array[j,30:32]) #right_elbow_angle\n",
        "                temp_array_angle[9,j]= calculate_angle(temp_array[j,3:5],temp_array[j,24:26],temp_array[j,27:29]) #right_shoulder_angle\n",
        "                #temp_array_angle[10,j]= calculate_angle(temp_array[j,51:53],temp_array[j,54:56],temp_array[j,57:59]) #right_ankle_angle\n",
        "                temp_array_angle[10,j]= calculate_angle(temp_array[j,48:50],temp_array[j,51:53],temp_array[j,54:56]) #right_knee_angle\n",
        "                temp_array_angle[11,j]= calculate_angle(temp_array[j,9:11],temp_array[j,48:50],temp_array[j,51:53]) #right_hip_angle\n",
        "                #temp_array_angle[13,j]= calculate_angle(temp_array[j,0:2],temp_array[j,3:5],temp_array[j,24:26]) #right_shoulder_head_angle\n",
        "            \n",
        "            variance_array = []\n",
        "            for k in range (12):\n",
        "                variance_array.append(np.var(temp_array_angle[k]))\n",
        "            \n",
        "            \n",
        "                \n",
        "            \n",
        "            if subject in [2, 4, 6, 8]:\n",
        "                \n",
        "                tsDat.append(variance_array)\n",
        "                tsLbl.append(action-1)\n",
        "               \n",
        "            elif subject in [1, 3, 5, 7]:\n",
        "\n",
        "                trDat.append(variance_array)\n",
        "                trLbl.append(action-1)\n",
        "       \n",
        "                \n",
        "            index = index + 1\n",
        "   \n",
        "    trDat = np.array(trDat)\n",
        "    trLbl = np.array(trLbl)\n",
        "    tsDat = np.array(tsDat)\n",
        "    tsLbl = np.array(tsLbl)\n",
        " \n",
        "    return trDat, trLbl, tsDat, tsLbl\n",
        "\n",
        "trDat, trLbl, tsDat, tsLbl = process_skeleton_angles()\n",
        "\n",
        "print(trDat.shape)\n",
        "print(trLbl.shape)\n",
        "print(tsDat.shape)\n",
        "print(tsLbl.shape)"
      ],
      "execution_count": null,
      "outputs": [
        {
          "output_type": "stream",
          "text": [
            "(431, 12)\n",
            "(431,)\n",
            "(430, 12)\n",
            "(430,)\n"
          ],
          "name": "stdout"
        }
      ]
    },
    {
      "cell_type": "code",
      "metadata": {
        "id": "lBWJtzKw2Ngq",
        "colab": {
          "base_uri": "https://localhost:8080/"
        },
        "outputId": "51d450d5-4792-4597-83f4-e56a579d9477"
      },
      "source": [
        "# Importing area under the curve which is affected by speed of action execution\n",
        "# Importing Angular displacement which is not affected by speed og action execution\n",
        "# Compute Maximum Amplitude\n",
        "# Compute Number of peaks\n",
        "\n",
        "def process_skeleton_peaks():\n",
        "\n",
        "    reshaped_data = np.zeros([861,116,60])\n",
        "    trDat_a = []\n",
        "    trLbl_a = []\n",
        "    tsDat_a = []\n",
        "    tsLbl_a = []\n",
        " \n",
        "    index = 0\n",
        "    counter = 0\n",
        "    subject = 0\n",
        "\n",
        "    for i in range (864):\n",
        "        \n",
        "        if counter == 32:\n",
        "            counter = 0\n",
        "        subject = int((counter-counter%4)/4+1)\n",
        "        counter = counter + 1\n",
        "        action = int((i-i%32)/32+1)\n",
        "        take = i%4+1\n",
        "        \n",
        "        data = import_data('Skeleton',action,subject,take)\n",
        "        \n",
        "        \n",
        "        if data is not None:\n",
        "                        \n",
        "            temp_array = np.zeros([data.shape[2],60])\n",
        "            temp_array_angle = np.zeros([12,data.shape[2]])\n",
        "            \n",
        "            for j in range (data.shape[2]):\n",
        "                temp_array[j,:] = data[:,:,j].flatten()\n",
        "                \n",
        "                temp_array_angle[0,j]= calculate_angle(temp_array[j,0:2],temp_array[j,3:5],temp_array[j,6:8]) #head_spine_angle\n",
        "                temp_array_angle[1,j]= calculate_angle(temp_array[j,3:5],temp_array[j,6:8],temp_array[j,9:11]) #spine_angle\n",
        "                \n",
        "                temp_array_angle[2,j]= calculate_angle(temp_array[j,15:17],temp_array[j,18:20],temp_array[j,21:23]) #left_wrist_angle\n",
        "                temp_array_angle[3,j]= calculate_angle(temp_array[j,13:14],temp_array[j,15:17],temp_array[j,18:20]) #left_elbow_angle\n",
        "                temp_array_angle[4,j]= calculate_angle(temp_array[j,3:5],temp_array[j,12:14],temp_array[j,15:17]) #left_shoulder_angle\n",
        "                #temp_array_angle[5,j]= calculate_angle(temp_array[j,39:41],temp_array[j,42:44],temp_array[j,45:47]) #left_ankle_angle\n",
        "                temp_array_angle[5,j]= calculate_angle(temp_array[j,36:38],temp_array[j,39:41],temp_array[j,42:44]) #left_knee_angle\n",
        "                temp_array_angle[6,j]= calculate_angle(temp_array[j,9:11],temp_array[j,36:38],temp_array[j,39:41]) #left_hip_angle\n",
        "                #temp_array_angle[7,j]= calculate_angle(temp_array[j,0:2],temp_array[j,3:5],temp_array[j,12:14]) #left_shoulder_head_angle\n",
        "                temp_array_angle[7,j]= calculate_angle(temp_array[j,27:29],temp_array[j,30:32],temp_array[j,33:35]) #right_wrist_angle\n",
        "                temp_array_angle[8,j]= calculate_angle(temp_array[j,24:26],temp_array[j,27:29],temp_array[j,30:32]) #right_elbow_angle\n",
        "                temp_array_angle[9,j]= calculate_angle(temp_array[j,3:5],temp_array[j,24:26],temp_array[j,27:29]) #right_shoulder_angle\n",
        "                #temp_array_angle[10,j]= calculate_angle(temp_array[j,51:53],temp_array[j,54:56],temp_array[j,57:59]) #right_ankle_angle\n",
        "                temp_array_angle[10,j]= calculate_angle(temp_array[j,48:50],temp_array[j,51:53],temp_array[j,54:56]) #right_knee_angle\n",
        "                temp_array_angle[11,j]= calculate_angle(temp_array[j,9:11],temp_array[j,48:50],temp_array[j,51:53]) #right_hip_angle\n",
        "                #temp_array_angle[13,j]= calculate_angle(temp_array[j,0:2],temp_array[j,3:5],temp_array[j,24:26]) #right_shoulder_head_angle\n",
        "\n",
        "            \n",
        "            new_feature_array = []\n",
        "            area_under_the_curve = 0\n",
        "            for k in range (12):\n",
        "                \n",
        "                #Calculate number of peaks\n",
        "                J1= temp_array_angle[k]\n",
        "                (allPks,_) = findPeaks(J1,prominence=20,width=1)\n",
        "                new_feature_array.append(len(allPks))\n",
        "            \n",
        "            \n",
        "            if subject in [2, 4, 6, 8]:\n",
        "                \n",
        "                tsDat_a.append(new_feature_array)\n",
        "                tsLbl_a.append(action-1)\n",
        "               \n",
        "            elif subject in [1, 3, 5, 7]:\n",
        "\n",
        "                trDat_a.append(new_feature_array)\n",
        "                trLbl_a.append(action-1)\n",
        "       \n",
        "                \n",
        "            index = index + 1\n",
        "   \n",
        "    trDat_a = np.array(trDat_a)\n",
        "    trLbl_a = np.array(trLbl_a)\n",
        "    tsDat_a = np.array(tsDat_a)\n",
        "    tsLbl_a = np.array(tsLbl_a)\n",
        " \n",
        "    return trDat_a, trLbl_a, tsDat_a, tsLbl_a\n",
        "\n",
        "trDat_a, trLbl_a, tsDat_a, tsLbl_a = process_skeleton_peaks()\n",
        "\n",
        "print(trDat_a.shape)\n",
        "print(trLbl_a.shape)\n",
        "print(tsDat_a.shape)\n",
        "print(tsLbl_a.shape)"
      ],
      "execution_count": null,
      "outputs": [
        {
          "output_type": "stream",
          "text": [
            "(431, 12)\n",
            "(431,)\n",
            "(430, 12)\n",
            "(430,)\n"
          ],
          "name": "stdout"
        }
      ]
    },
    {
      "cell_type": "code",
      "metadata": {
        "id": "g8TaQOWXoctN",
        "colab": {
          "base_uri": "https://localhost:8080/"
        },
        "outputId": "4f70884b-83c4-435d-87f8-159dc2ec39dd"
      },
      "source": [
        "trDat = np.concatenate((trDat, trDat_a), axis = -1)\n",
        "tsDat = np.concatenate((tsDat, tsDat_a), axis = -1)\n",
        "\n",
        "print(trDat.shape)\n",
        "print(trLbl.shape)\n",
        "print(tsDat.shape)\n",
        "print(tsLbl.shape)"
      ],
      "execution_count": null,
      "outputs": [
        {
          "output_type": "stream",
          "text": [
            "(431, 24)\n",
            "(431,)\n",
            "(430, 24)\n",
            "(430,)\n"
          ],
          "name": "stdout"
        }
      ]
    },
    {
      "cell_type": "markdown",
      "metadata": {
        "id": "11a-tdwQ3EqR"
      },
      "source": [
        "## Process Inertial Data"
      ]
    },
    {
      "cell_type": "code",
      "metadata": {
        "id": "dmppQGpp3EFv",
        "colab": {
          "base_uri": "https://localhost:8080/"
        },
        "outputId": "41014a72-6d01-4c62-9af0-c3465ddd3075"
      },
      "source": [
        "# Importing Inertia Data 6 Features\n",
        "def process_inertial_variance():\n",
        "\n",
        "    i_trDat = []\n",
        "    i_trLbl = []\n",
        "    i_tsDat = []\n",
        "    i_tsLbl = []\n",
        "\n",
        "    index1 = 0\n",
        "    index2 = 0\n",
        "    counter = 0\n",
        "    subject = 0\n",
        "    for i in range (864):\n",
        "        \n",
        "        if counter == 32:\n",
        "            counter = 0\n",
        "        subject = int((counter-counter%4)/4+1)\n",
        "        counter = counter + 1\n",
        "        action = int((i-i%32)/32+1)\n",
        "        take = i%4+1\n",
        "        \n",
        "        data = import_data('Inertial',action,subject,take)\n",
        "        \n",
        "        \n",
        "        if data is not None:\n",
        "            \n",
        "            temp_array = np.zeros([6,data.shape[0]])\n",
        "            for j in range (data.shape[0]):\n",
        "                temp_array[0][j]=data[j][0]\n",
        "                temp_array[1][j]=data[j][1]\n",
        "                temp_array[2][j]=data[j][2]\n",
        "                temp_array[3][j]=data[j][3]\n",
        "                temp_array[4][j]=data[j][4]\n",
        "                temp_array[5][j]=data[j][5]\n",
        "                \n",
        "            variance_array = []\n",
        "            for k in range (6):\n",
        "                variance_array.append(np.var(temp_array[k]))\n",
        "                                          \n",
        "            \n",
        "            if subject in [2, 4, 6, 8]:\n",
        "                i_tsDat.append(variance_array)\n",
        "                i_tsLbl.append(action-1)\n",
        "                index1 = index1 + 1 \n",
        "            elif subject in [1, 3, 5, 7]:\n",
        "                i_trDat.append(variance_array)\n",
        "                i_trLbl.append(action-1)\n",
        "                index2 = index2 + 1\n",
        "\n",
        "\n",
        "    i_trDat = np.array(i_trDat)\n",
        "    i_trLbl = np.array(i_trLbl)\n",
        "    i_tsDat = np.array(i_tsDat)\n",
        "    i_tsLbl = np.array(i_tsLbl)\n",
        "                \n",
        "    return i_trDat, i_trLbl, i_tsDat, i_tsLbl\n",
        "\n",
        "i_trDat, i_trLbl, i_tsDat, i_tsLbl = process_inertial_variance()\n",
        "\n",
        "\n",
        "print(i_trDat.shape)\n",
        "print(i_trLbl.shape)\n",
        "print(i_tsDat.shape)\n",
        "print(i_tsLbl.shape)"
      ],
      "execution_count": null,
      "outputs": [
        {
          "output_type": "stream",
          "text": [
            "(431, 6)\n",
            "(431,)\n",
            "(430, 6)\n",
            "(430,)\n"
          ],
          "name": "stdout"
        }
      ]
    },
    {
      "cell_type": "code",
      "metadata": {
        "id": "RZZFh3aq3Lui",
        "colab": {
          "base_uri": "https://localhost:8080/"
        },
        "outputId": "f1b8d9a1-28ab-4f51-b28e-80c6208dfae0"
      },
      "source": [
        "trDat = np.concatenate((trDat, i_trDat), axis = -1)\n",
        "tsDat = np.concatenate((tsDat, i_tsDat), axis = -1)\n",
        "\n",
        "print(trDat.shape)\n",
        "print(trLbl.shape)\n",
        "print(tsDat.shape)\n",
        "print(tsLbl.shape)"
      ],
      "execution_count": null,
      "outputs": [
        {
          "output_type": "stream",
          "text": [
            "(431, 30)\n",
            "(431,)\n",
            "(430, 30)\n",
            "(430,)\n"
          ],
          "name": "stdout"
        }
      ]
    },
    {
      "cell_type": "code",
      "metadata": {
        "id": "38LmK_0eoctS",
        "colab": {
          "base_uri": "https://localhost:8080/"
        },
        "outputId": "4782bcaa-df37-41c1-b402-431a4e730802"
      },
      "source": [
        "def process_inertial_peaks():\n",
        "\n",
        "    i_trDat = []\n",
        "    i_trLbl = []\n",
        "    i_tsDat = []\n",
        "    i_tsLbl = []\n",
        "\n",
        "    index1 = 0\n",
        "    index2 = 0\n",
        "    counter = 0\n",
        "    subject = 0\n",
        "    for i in range (864):\n",
        "        \n",
        "        if counter == 32:\n",
        "            counter = 0\n",
        "        subject = int((counter-counter%4)/4+1)\n",
        "        counter = counter + 1\n",
        "        action = int((i-i%32)/32+1)\n",
        "        take = i%4+1\n",
        "        \n",
        "        data = import_data('Inertial',action,subject,take)\n",
        "        #data = import_data(file_type,1,1,1)\n",
        "        \n",
        "        \n",
        "        if data is not None:\n",
        "            \n",
        "            temp_array = np.zeros([6,data.shape[0]])\n",
        "            for j in range (data.shape[0]):\n",
        "                temp_array[0][j]=data[j][0]\n",
        "                temp_array[1][j]=data[j][1]\n",
        "                temp_array[2][j]=data[j][2]\n",
        "                temp_array[3][j]=data[j][3]\n",
        "                temp_array[4][j]=data[j][4]\n",
        "                temp_array[5][j]=data[j][5]\n",
        "                \n",
        "            \n",
        "\n",
        "            \n",
        "            new_feature_array = []\n",
        "            #Calculate number of peaks\n",
        "            for k in range (6):\n",
        "                \n",
        "                J1= temp_array[k]\n",
        "                (allPks,_) = findPeaks(J1,prominence=30,width=2)\n",
        "                new_feature_array.append(len(allPks))\n",
        "                \n",
        "            #plt.plot(temp_array[5])                              \n",
        "            \n",
        "            if subject == 2 or subject == 4 or subject == 6 or subject == 8:\n",
        "                i_tsDat.append(new_feature_array)\n",
        "                i_tsLbl.append(action-1)\n",
        "                index1 = index1 + 1 \n",
        "            elif subject == 1 or subject == 3 or subject == 5 or subject == 7:\n",
        "                i_trDat.append(new_feature_array)\n",
        "                i_trLbl.append(action-1)\n",
        "                index2 = index2 + 1\n",
        "\n",
        "\n",
        "    i_trDat = np.array(i_trDat)\n",
        "    i_trLbl = np.array(i_trLbl)\n",
        "    i_tsDat = np.array(i_tsDat)\n",
        "    i_tsLbl = np.array(i_tsLbl)\n",
        "                \n",
        "    return i_trDat, i_trLbl, i_tsDat, i_tsLbl\n",
        "\n",
        "i_trDat, i_trLbl, i_tsDat, i_tsLbl = process_inertial_peaks()\n",
        "\n",
        "\n",
        "print(i_trDat.shape)\n",
        "print(i_trLbl.shape)\n",
        "print(i_tsDat.shape)\n",
        "print(i_tsLbl.shape)"
      ],
      "execution_count": null,
      "outputs": [
        {
          "output_type": "stream",
          "text": [
            "(431, 6)\n",
            "(431,)\n",
            "(430, 6)\n",
            "(430,)\n"
          ],
          "name": "stdout"
        }
      ]
    },
    {
      "cell_type": "code",
      "metadata": {
        "id": "7bJ9Hqk5octT",
        "colab": {
          "base_uri": "https://localhost:8080/"
        },
        "outputId": "5c450f05-2eb4-4380-c896-1dbe936a5eeb"
      },
      "source": [
        "trDat = np.concatenate((trDat, i_trDat), axis = -1)\n",
        "tsDat = np.concatenate((tsDat, i_tsDat), axis = -1)\n",
        "\n",
        "print(trDat.shape)\n",
        "print(trLbl.shape)\n",
        "print(tsDat.shape)\n",
        "print(tsLbl.shape)"
      ],
      "execution_count": null,
      "outputs": [
        {
          "output_type": "stream",
          "text": [
            "(431, 36)\n",
            "(431,)\n",
            "(430, 36)\n",
            "(430,)\n"
          ],
          "name": "stdout"
        }
      ]
    },
    {
      "cell_type": "code",
      "metadata": {
        "id": "qxNmUrpg3OIC"
      },
      "source": [
        "from sklearn.preprocessing import StandardScaler  \n",
        "scaler = StandardScaler()  \n",
        "scaler.fit(trDat)\n",
        "\n",
        "trDat = scaler.transform(trDat)  \n",
        "tsDat = scaler.transform(tsDat) "
      ],
      "execution_count": null,
      "outputs": []
    },
    {
      "cell_type": "markdown",
      "metadata": {
        "id": "oPIbUmmH3Pgv"
      },
      "source": [
        "# Random Forest Model"
      ]
    },
    {
      "cell_type": "markdown",
      "metadata": {
        "id": "VGXr5w2M6pgS"
      },
      "source": [
        "## Train Model"
      ]
    },
    {
      "cell_type": "code",
      "metadata": {
        "id": "it0P1MsK3QX1"
      },
      "source": [
        "from sklearn.ensemble import RandomForestClassifier,BaggingClassifier,VotingClassifier\n",
        "from sklearn.tree import DecisionTreeClassifier\n",
        "\n",
        "rf = RandomForestClassifier(n_estimators=200,min_samples_split=3,max_depth=9,random_state=0)\n",
        "\n",
        "rf.fit(trDat, trLbl)  \n",
        "y_pred = rf.predict(tsDat)"
      ],
      "execution_count": null,
      "outputs": []
    },
    {
      "cell_type": "markdown",
      "metadata": {
        "id": "qsUL_o383SGk"
      },
      "source": [
        "## Evaluate Model"
      ]
    },
    {
      "cell_type": "code",
      "metadata": {
        "id": "Kf2k7oHo3T2x",
        "colab": {
          "base_uri": "https://localhost:8080/"
        },
        "outputId": "6a8c836b-dcc1-40ad-cb97-d532b1bb66cf"
      },
      "source": [
        "from sklearn.metrics import classification_report, confusion_matrix, accuracy_score\n",
        "\n",
        "print(confusion_matrix(tsLbl,y_pred))  \n",
        "print(classification_report(tsLbl,y_pred))  \n",
        "print(accuracy_score(tsLbl, y_pred)) "
      ],
      "execution_count": null,
      "outputs": [
        {
          "output_type": "stream",
          "text": [
            "[[16  0  0  0  0  0  0  0  0  0  0  0  0  0  0  0  0  0  0  0  0  0  0  0\n",
            "   0  0  0]\n",
            " [12  4  0  0  0  0  0  0  0  0  0  0  0  0  0  0  0  0  0  0  0  0  0  0\n",
            "   0  0  0]\n",
            " [ 0  0 16  0  0  0  0  0  0  0  0  0  0  0  0  0  0  0  0  0  0  0  0  0\n",
            "   0  0  0]\n",
            " [ 0  0  0 15  0  0  0  0  0  0  0  0  0  0  0  1  0  0  0  0  0  0  0  0\n",
            "   0  0  0]\n",
            " [ 0  0  3  0 12  0  0  0  0  0  0  0  0  0  1  0  0  0  0  0  0  0  0  0\n",
            "   0  0  0]\n",
            " [ 0  0  0  0  0 12  3  0  0  0  0  0  0  0  0  0  0  1  0  0  0  0  0  0\n",
            "   0  0  0]\n",
            " [ 0  0  0  0  0  0 15  0  0  0  0  0  0  0  0  0  1  0  0  0  0  0  0  0\n",
            "   0  0  0]\n",
            " [ 0  0  0  0  0  0  0 10  0  4  2  0  0  0  0  0  0  0  0  0  0  0  0  0\n",
            "   0  0  0]\n",
            " [ 3  5  0  0  0  0  0  0  4  2  0  0  0  0  0  0  0  0  0  2  0  0  0  0\n",
            "   0  0  0]\n",
            " [ 1  6  0  0  0  0  0  0  0  7  2  0  0  0  0  0  0  0  0  0  0  0  0  0\n",
            "   0  0  0]\n",
            " [ 0  0  2  0  1  0  0  0  1  2 10  0  0  0  0  0  0  0  0  0  0  0  0  0\n",
            "   0  0  0]\n",
            " [ 0  0  0  0  0  0  0  0  0  0  0 16  0  0  0  0  0  0  0  0  0  0  0  0\n",
            "   0  0  0]\n",
            " [ 0  0  0  0  0  0  0  0  0  0  0  0 13  2  0  0  0  1  0  0  0  0  0  0\n",
            "   0  0  0]\n",
            " [ 0  0  0  0  0  0  1  0  0  0  0  0  0 15  0  0  0  0  0  0  0  0  0  0\n",
            "   0  0  0]\n",
            " [ 2  0  0  0  0  0  0  0  0  0  0  2  0  0 12  0  0  0  0  0  0  0  0  0\n",
            "   0  0  0]\n",
            " [ 0  0  0  0  0  0  0  0  0  0  0  0  3  0  0 12  0  1  0  0  0  0  0  0\n",
            "   0  0  0]\n",
            " [ 0  0  0  0  0  0  0  0  0  0  0  1  0  0  0  0 15  0  0  0  0  0  0  0\n",
            "   0  0  0]\n",
            " [ 0  0  0  0  0  1  0  0  0  0  0  0  0  0  0  0  0 15  0  0  0  0  0  0\n",
            "   0  0  0]\n",
            " [ 0  0  4  0  3  0  0  0  1  0  0  0  0  0  0  0  0  0  7  1  0  0  0  0\n",
            "   0  0  0]\n",
            " [ 1  2  0  0  0  0  0  0  0  0  0  0  0  0  0  0  0  0  3 10  0  0  0  0\n",
            "   0  0  0]\n",
            " [ 0  0  0  0  0  0  0  0  0  0  0  0  0  0  0  0  0  0  0  0 16  0  0  0\n",
            "   0  0  0]\n",
            " [ 0  0  0  0  0  0  0  0  0  0  0  0  0  0  0  0  0  0  0  0  0 14  2  0\n",
            "   0  0  0]\n",
            " [ 0  0  0  0  0  0  0  0  0  0  0  0  0  0  0  0  0  0  0  0  0  0 15  0\n",
            "   0  0  0]\n",
            " [ 0  0  0  0  0  0  0  0  0  0  0  0  0  0  0  0  0  0  0  0  0  0  0 16\n",
            "   0  0  0]\n",
            " [ 0  0  0  0  0  0  0  0  0  0  0  0  0  0  0  0  0  0  0  0  0  0  0  1\n",
            "  15  0  0]\n",
            " [ 0  0  0  0  0  0  0  0  0  0  0  0  0  0  0  0  0  0  0  0  0  0  0  0\n",
            "   0 16  0]\n",
            " [ 0  0  0  0  0  0  0  0  0  0  0  0  0  0  0  0  0  0  0  0  0  0  0  0\n",
            "   0  0 15]]\n",
            "              precision    recall  f1-score   support\n",
            "\n",
            "           0       0.46      1.00      0.63        16\n",
            "           1       0.24      0.25      0.24        16\n",
            "           2       0.64      1.00      0.78        16\n",
            "           3       1.00      0.94      0.97        16\n",
            "           4       0.75      0.75      0.75        16\n",
            "           5       0.92      0.75      0.83        16\n",
            "           6       0.79      0.94      0.86        16\n",
            "           7       1.00      0.62      0.77        16\n",
            "           8       0.67      0.25      0.36        16\n",
            "           9       0.47      0.44      0.45        16\n",
            "          10       0.71      0.62      0.67        16\n",
            "          11       0.84      1.00      0.91        16\n",
            "          12       0.81      0.81      0.81        16\n",
            "          13       0.88      0.94      0.91        16\n",
            "          14       0.92      0.75      0.83        16\n",
            "          15       0.92      0.75      0.83        16\n",
            "          16       0.94      0.94      0.94        16\n",
            "          17       0.83      0.94      0.88        16\n",
            "          18       0.70      0.44      0.54        16\n",
            "          19       0.77      0.62      0.69        16\n",
            "          20       1.00      1.00      1.00        16\n",
            "          21       1.00      0.88      0.93        16\n",
            "          22       0.88      1.00      0.94        15\n",
            "          23       0.94      1.00      0.97        16\n",
            "          24       1.00      0.94      0.97        16\n",
            "          25       1.00      1.00      1.00        16\n",
            "          26       1.00      1.00      1.00        15\n",
            "\n",
            "    accuracy                           0.80       430\n",
            "   macro avg       0.82      0.80      0.79       430\n",
            "weighted avg       0.82      0.80      0.79       430\n",
            "\n",
            "0.7976744186046512\n"
          ],
          "name": "stdout"
        }
      ]
    },
    {
      "cell_type": "code",
      "metadata": {
        "id": "qv5AsCUWckba",
        "colab": {
          "base_uri": "https://localhost:8080/",
          "height": 983
        },
        "outputId": "840b6798-2739-4b6c-b6bf-d9638a5440c1"
      },
      "source": [
        "skplt.metrics.plot_confusion_matrix(tsLbl, y_pred, normalize=True, figsize=(17,17))"
      ],
      "execution_count": null,
      "outputs": [
        {
          "output_type": "execute_result",
          "data": {
            "text/plain": [
              "<matplotlib.axes._subplots.AxesSubplot at 0x7fa2ffece090>"
            ]
          },
          "metadata": {
            "tags": []
          },
          "execution_count": 22
        },
        {
          "output_type": "display_data",
          "data": {
            "image/png": "[encoded data removed]",
            "text/plain": [
              "<Figure size 1224x1224 with 2 Axes>"
            ]
          },
          "metadata": {
            "tags": [],
            "needs_background": "light"
          }
        }
      ]
    },
    {
      "cell_type": "markdown",
      "metadata": {
        "id": "s_sK9N8wBFp_"
      },
      "source": [
        "# Gradient Boosting - Xgboost"
      ]
    },
    {
      "cell_type": "markdown",
      "metadata": {
        "id": "A7o3jEq3octl"
      },
      "source": [
        "## Training Model"
      ]
    },
    {
      "cell_type": "code",
      "metadata": {
        "id": "fimVTvP1BK4U",
        "colab": {
          "base_uri": "https://localhost:8080/"
        },
        "outputId": "bcbd440e-8020-4c93-f5e1-5b58576b2268"
      },
      "source": [
        "from xgboost import XGBClassifier\n",
        "import time \n",
        "start =time.clock()\n",
        "\n",
        "\n",
        "xgclf = XGBClassifier(n_estimators=200,\n",
        "                      learning_rate=0.1,\n",
        "                      gamma=0, \n",
        "                      subsample=0.75,\n",
        "                      colsample_bytree=1,\n",
        "                      max_depth=5,\n",
        "                      min_weight=1, \n",
        "                      random_state=27,\n",
        "                      booster='gbtree',\n",
        "                      )\n",
        "\n",
        "xgclf.fit(trDat,trLbl)\n",
        "y_pred = xgclf.predict(tsDat)\n",
        "\n",
        "end = time.clock()\n",
        "print('Running time: %s Seconds'%(end-start))"
      ],
      "execution_count": null,
      "outputs": [
        {
          "output_type": "stream",
          "text": [
            "/usr/local/lib/python3.7/dist-packages/ipykernel_launcher.py:3: DeprecationWarning: time.clock has been deprecated in Python 3.3 and will be removed from Python 3.8: use time.perf_counter or time.process_time instead\n",
            "  This is separate from the ipykernel package so we can avoid doing imports until\n"
          ],
          "name": "stderr"
        },
        {
          "output_type": "stream",
          "text": [
            "Running time: 2.347512000000002 Seconds\n"
          ],
          "name": "stdout"
        },
        {
          "output_type": "stream",
          "text": [
            "/usr/local/lib/python3.7/dist-packages/ipykernel_launcher.py:20: DeprecationWarning: time.clock has been deprecated in Python 3.3 and will be removed from Python 3.8: use time.perf_counter or time.process_time instead\n"
          ],
          "name": "stderr"
        }
      ]
    },
    {
      "cell_type": "markdown",
      "metadata": {
        "id": "vjlFaFoWoctn"
      },
      "source": [
        "## Evaluate Model"
      ]
    },
    {
      "cell_type": "code",
      "metadata": {
        "id": "uD-c_Ww9BKvz",
        "scrolled": true,
        "colab": {
          "base_uri": "https://localhost:8080/"
        },
        "outputId": "eca2d544-629f-47d3-9b23-7abb77dbd302"
      },
      "source": [
        "from sklearn.metrics import classification_report, confusion_matrix, accuracy_score\n",
        "\n",
        "print(confusion_matrix(tsLbl,y_pred))  \n",
        "print(classification_report(tsLbl,y_pred))  \n",
        "print(accuracy_score(tsLbl, y_pred)) "
      ],
      "execution_count": null,
      "outputs": [
        {
          "output_type": "stream",
          "text": [
            "[[13  0  2  0  0  0  0  0  0  1  0  0  0  0  0  0  0  0  0  0  0  0  0  0\n",
            "   0  0  0]\n",
            " [10  5  0  0  0  0  0  0  1  0  0  0  0  0  0  0  0  0  0  0  0  0  0  0\n",
            "   0  0  0]\n",
            " [ 0  1 14  0  0  0  0  0  0  1  0  0  0  0  0  0  0  0  0  0  0  0  0  0\n",
            "   0  0  0]\n",
            " [ 0  0  0 10  0  3  0  0  0  0  0  0  3  0  0  0  0  0  0  0  0  0  0  0\n",
            "   0  0  0]\n",
            " [ 0  0  1  0  9  0  0  0  2  0  0  0  0  0  2  0  0  0  2  0  0  0  0  0\n",
            "   0  0  0]\n",
            " [ 0  0  0  0  0 15  0  0  0  0  0  0  0  0  0  1  0  0  0  0  0  0  0  0\n",
            "   0  0  0]\n",
            " [ 0  0  0  0  0  0 14  1  0  0  0  0  0  0  0  0  1  0  0  0  0  0  0  0\n",
            "   0  0  0]\n",
            " [ 1  0  1  0  0  0  0  3  0  5  3  0  0  0  0  0  0  0  3  0  0  0  0  0\n",
            "   0  0  0]\n",
            " [ 1  6  0  0  0  0  0  0  5  2  0  0  0  0  0  0  0  0  0  2  0  0  0  0\n",
            "   0  0  0]\n",
            " [ 0  3  1  0  0  0  0  0  6  5  1  0  0  0  0  0  0  0  0  0  0  0  0  0\n",
            "   0  0  0]\n",
            " [ 0  0  3  0  0  0  0  0  3  1  9  0  0  0  0  0  0  0  0  0  0  0  0  0\n",
            "   0  0  0]\n",
            " [ 0  0  0  0  0  0  0  0  0  0  0 10  0  0  6  0  0  0  0  0  0  0  0  0\n",
            "   0  0  0]\n",
            " [ 0  0  0  0  0  0  0  0  0  0  0  0 11  4  0  0  0  1  0  0  0  0  0  0\n",
            "   0  0  0]\n",
            " [ 0  0  0  0  0  0  1  0  0  0  0  0  0 11  0  0  4  0  0  0  0  0  0  0\n",
            "   0  0  0]\n",
            " [ 0  0  0  0  0  0  0  0  1  0  0  3  0  0 11  0  0  0  0  0  1  0  0  0\n",
            "   0  0  0]\n",
            " [ 0  0  0  0  0  0  0  0  0  0  0  0  2  0  0 10  0  4  0  0  0  0  0  0\n",
            "   0  0  0]\n",
            " [ 0  0  0  0  0  0  0  0  0  0  0  1  0  2  0  0 10  0  0  0  3  0  0  0\n",
            "   0  0  0]\n",
            " [ 0  0  0  0  0  1  3  0  0  0  0  0  1  1  0  0  0 10  0  0  0  0  0  0\n",
            "   0  0  0]\n",
            " [ 0  0  0  0  2  0  0  2  2  1  0  0  0  0  0  0  0  0  6  3  0  0  0  0\n",
            "   0  0  0]\n",
            " [ 0  2  0  0  2  0  0  0  1  0  0  0  0  0  0  0  0  0  2  9  0  0  0  0\n",
            "   0  0  0]\n",
            " [ 0  0  0  0  0  0  0  0  0  0  0  0  0  0  0  0  0  0  0  0 16  0  0  0\n",
            "   0  0  0]\n",
            " [ 0  0  1  0  0  0  0  0  0  0  0  0  0  0  0  0  0  0  0  0  0 13  2  0\n",
            "   0  0  0]\n",
            " [ 0  0  0  0  0  0  0  0  0  0  0  0  0  0  0  0  0  0  0  0  0  2 13  0\n",
            "   0  0  0]\n",
            " [ 0  0  0  0  0  0  0  0  0  0  0  0  0  0  0  0  0  0  0  0  1  0  0 15\n",
            "   0  0  0]\n",
            " [ 0  0  0  0  0  0  0  0  0  0  0  0  0  0  0  0  0  0  0  0  1  0  0  0\n",
            "  15  0  0]\n",
            " [ 0  0  0  0  0  0  0  0  0  0  0  0  0  0  0  0  0  0  0  0  0  0  0  0\n",
            "   0 16  0]\n",
            " [ 1  0  0  0  0  0  0  0  0  0  0  0  0  0  0  0  0  0  0  0  0  0  1  0\n",
            "   0  0 13]]\n",
            "              precision    recall  f1-score   support\n",
            "\n",
            "           0       0.50      0.81      0.62        16\n",
            "           1       0.29      0.31      0.30        16\n",
            "           2       0.61      0.88      0.72        16\n",
            "           3       1.00      0.62      0.77        16\n",
            "           4       0.69      0.56      0.62        16\n",
            "           5       0.79      0.94      0.86        16\n",
            "           6       0.78      0.88      0.82        16\n",
            "           7       0.50      0.19      0.27        16\n",
            "           8       0.24      0.31      0.27        16\n",
            "           9       0.31      0.31      0.31        16\n",
            "          10       0.69      0.56      0.62        16\n",
            "          11       0.71      0.62      0.67        16\n",
            "          12       0.65      0.69      0.67        16\n",
            "          13       0.61      0.69      0.65        16\n",
            "          14       0.58      0.69      0.63        16\n",
            "          15       0.91      0.62      0.74        16\n",
            "          16       0.67      0.62      0.65        16\n",
            "          17       0.67      0.62      0.65        16\n",
            "          18       0.46      0.38      0.41        16\n",
            "          19       0.64      0.56      0.60        16\n",
            "          20       0.73      1.00      0.84        16\n",
            "          21       0.87      0.81      0.84        16\n",
            "          22       0.81      0.87      0.84        15\n",
            "          23       1.00      0.94      0.97        16\n",
            "          24       1.00      0.94      0.97        16\n",
            "          25       1.00      1.00      1.00        16\n",
            "          26       1.00      0.87      0.93        15\n",
            "\n",
            "    accuracy                           0.68       430\n",
            "   macro avg       0.69      0.68      0.67       430\n",
            "weighted avg       0.69      0.68      0.67       430\n",
            "\n",
            "0.6767441860465117\n"
          ],
          "name": "stdout"
        }
      ]
    },
    {
      "cell_type": "code",
      "metadata": {
        "id": "M3n976bYcs8l",
        "colab": {
          "base_uri": "https://localhost:8080/",
          "height": 983
        },
        "outputId": "6c8674b5-5e87-4a21-c89a-717ee8419c0f"
      },
      "source": [
        "skplt.metrics.plot_confusion_matrix(tsLbl, y_pred, normalize=True, figsize=(17,17))"
      ],
      "execution_count": null,
      "outputs": [
        {
          "output_type": "execute_result",
          "data": {
            "text/plain": [
              "<matplotlib.axes._subplots.AxesSubplot at 0x7fa2ff2d65d0>"
            ]
          },
          "metadata": {
            "tags": []
          },
          "execution_count": 25
        },
        {
          "output_type": "display_data",
          "data": {
            "image/png": "[encoded data removed]",
            "text/plain": [
              "<Figure size 1224x1224 with 2 Axes>"
            ]
          },
          "metadata": {
            "tags": [],
            "needs_background": "light"
          }
        }
      ]
    },
    {
      "cell_type": "markdown",
      "metadata": {
        "id": "R0pSq9H8AzuW"
      },
      "source": [
        "# Convolutional Neural Network"
      ]
    },
    {
      "cell_type": "code",
      "metadata": {
        "id": "OHr-T5ufCNFz",
        "colab": {
          "base_uri": "https://localhost:8080/"
        },
        "outputId": "68096765-9f0c-4735-9133-28fa4d834622"
      },
      "source": [
        "trDat.shape, tsDat.shape"
      ],
      "execution_count": null,
      "outputs": [
        {
          "output_type": "execute_result",
          "data": {
            "text/plain": [
              "((431, 36), (430, 36))"
            ]
          },
          "metadata": {
            "tags": []
          },
          "execution_count": 26
        }
      ]
    },
    {
      "cell_type": "code",
      "metadata": {
        "id": "KiGdb5Wy6PZn"
      },
      "source": [
        "trDat_cnn = trDat.reshape((trDat.shape[0], trDat.shape[1],1))\n",
        "tsDat_cnn = tsDat.reshape((tsDat.shape[0], tsDat.shape[1],1))"
      ],
      "execution_count": null,
      "outputs": []
    },
    {
      "cell_type": "code",
      "metadata": {
        "id": "-lrW3NVBClxz",
        "colab": {
          "base_uri": "https://localhost:8080/"
        },
        "outputId": "20ae8dfd-c716-482f-ea8d-f6219ebbe996"
      },
      "source": [
        "trDat_cnn.shape, tsDat_cnn.shape"
      ],
      "execution_count": null,
      "outputs": [
        {
          "output_type": "execute_result",
          "data": {
            "text/plain": [
              "((431, 36, 1), (430, 36, 1))"
            ]
          },
          "metadata": {
            "tags": []
          },
          "execution_count": 28
        }
      ]
    },
    {
      "cell_type": "code",
      "metadata": {
        "id": "GuMfzNqBocuK"
      },
      "source": [
        "from tensorflow.keras.wrappers.scikit_learn import KerasClassifier\n",
        "from tensorflow.keras.models import Sequential\n",
        "from tensorflow.keras import regularizers"
      ],
      "execution_count": null,
      "outputs": []
    },
    {
      "cell_type": "code",
      "metadata": {
        "id": "Ib0qeoRJCyzl"
      },
      "source": [
        "def kerasConv():\n",
        "\n",
        "    model = Sequential()\n",
        "    model.add(Conv1D(48, 3, padding='same', \n",
        "                     kernel_regularizer=regularizers.l2(0.0001), \n",
        "                     input_shape=(36,1)))\n",
        "    model.add(Conv1D(64, 3, padding='same',\n",
        "                     kernel_regularizer=regularizers.l2(0.0001)))\n",
        "    model.add(MaxPooling1D(2))\n",
        "    model.add(Dropout(0.25))\n",
        "    model.add(Flatten())\n",
        "    model.add(Dense(128, activation='relu',\n",
        "                    kernel_regularizer=regularizers.l2(0.0001)))\n",
        "    model.add(Dropout(0.5))\n",
        "    model.add(Dense(27, activation='softmax'))\n",
        "\n",
        "    model.compile(loss='categorical_crossentropy',\n",
        "                 optimizer='adam',\n",
        "                 metrics=['accuracy'])\n",
        "    \n",
        "    return model"
      ],
      "execution_count": null,
      "outputs": []
    },
    {
      "cell_type": "markdown",
      "metadata": {
        "id": "v_shWuw3Keco"
      },
      "source": [
        "Note: Available metrics in KerasClassifier are: loss,acc,lr"
      ]
    },
    {
      "cell_type": "code",
      "metadata": {
        "id": "KiKfh-xxocuO"
      },
      "source": [
        "kerasConvModel = KerasClassifier(build_fn=kerasConv, epochs=200, \n",
        "                                 batch_size=32, verbose=0)"
      ],
      "execution_count": null,
      "outputs": []
    },
    {
      "cell_type": "code",
      "metadata": {
        "id": "yWoydPjFDKe_",
        "colab": {
          "base_uri": "https://localhost:8080/"
        },
        "outputId": "7a51c007-c1ca-4e4c-d304-072337c8e042"
      },
      "source": [
        "kerasConvModel.fit(trDat_cnn,trLbl)\n",
        "y_pred = kerasConvModel.predict(tsDat_cnn)"
      ],
      "execution_count": null,
      "outputs": [
        {
          "output_type": "stream",
          "text": [
            "/usr/local/lib/python3.7/dist-packages/tensorflow/python/keras/engine/sequential.py:455: UserWarning: `model.predict_classes()` is deprecated and will be removed after 2021-01-01. Please use instead:* `np.argmax(model.predict(x), axis=-1)`,   if your model does multi-class classification   (e.g. if it uses a `softmax` last-layer activation).* `(model.predict(x) > 0.5).astype(\"int32\")`,   if your model does binary classification   (e.g. if it uses a `sigmoid` last-layer activation).\n",
            "  warnings.warn('`model.predict_classes()` is deprecated and '\n"
          ],
          "name": "stderr"
        }
      ]
    },
    {
      "cell_type": "code",
      "metadata": {
        "id": "1gHL1zpBDXgW",
        "colab": {
          "base_uri": "https://localhost:8080/"
        },
        "outputId": "fce4d9fe-34ce-4e42-82ee-d10db657b56b"
      },
      "source": [
        "from sklearn.metrics import classification_report, confusion_matrix, accuracy_score\n",
        "\n",
        "print(confusion_matrix(tsLbl,y_pred))  \n",
        "print(classification_report(tsLbl,y_pred))  \n",
        "print(accuracy_score(tsLbl, y_pred)) "
      ],
      "execution_count": null,
      "outputs": [
        {
          "output_type": "stream",
          "text": [
            "[[13  2  0  0  0  0  0  0  0  0  0  0  0  0  0  0  0  0  0  0  0  0  0  1\n",
            "   0  0  0]\n",
            " [10  6  0  0  0  0  0  0  0  0  0  0  0  0  0  0  0  0  0  0  0  0  0  0\n",
            "   0  0  0]\n",
            " [ 0  0 16  0  0  0  0  0  0  0  0  0  0  0  0  0  0  0  0  0  0  0  0  0\n",
            "   0  0  0]\n",
            " [ 0  0  0 15  0  1  0  0  0  0  0  0  0  0  0  0  0  0  0  0  0  0  0  0\n",
            "   0  0  0]\n",
            " [ 0  0  2  0  5  0  0  0  0  3  0  0  0  2  1  0  0  0  1  2  0  0  0  0\n",
            "   0  0  0]\n",
            " [ 0  0  0  0  0 16  0  0  0  0  0  0  0  0  0  0  0  0  0  0  0  0  0  0\n",
            "   0  0  0]\n",
            " [ 0  0  0  0  0  0 14  0  0  0  0  0  0  2  0  0  0  0  0  0  0  0  0  0\n",
            "   0  0  0]\n",
            " [ 0  0  1  0  0  0  0  9  0  6  0  0  0  0  0  0  0  0  0  0  0  0  0  0\n",
            "   0  0  0]\n",
            " [ 3  5  0  0  0  0  0  0  0  3  1  0  0  0  0  0  0  1  0  3  0  0  0  0\n",
            "   0  0  0]\n",
            " [ 1  4  1  0  0  0  0  0  0  6  0  0  0  0  0  0  0  0  0  1  0  0  3  0\n",
            "   0  0  0]\n",
            " [ 0  0  0  0  0  0  0  1  1 10  2  0  0  0  0  0  0  0  1  1  0  0  0  0\n",
            "   0  0  0]\n",
            " [ 0  0  0  0  0  0  0  0  0  0  0  6  0  0  0  0  0  0  0  0  0  0  0  0\n",
            "   0 10  0]\n",
            " [ 0  0  0  0  0  0  0  0  0  0  0  0 16  0  0  0  0  0  0  0  0  0  0  0\n",
            "   0  0  0]\n",
            " [ 0  0  0  0  0  0  2  0  0  0  0  0  0 14  0  0  0  0  0  0  0  0  0  0\n",
            "   0  0  0]\n",
            " [ 2  0  0  0  1  0  0  0  0  0  0  0  0  0 12  0  0  0  0  0  1  0  0  0\n",
            "   0  0  0]\n",
            " [ 0  0  0  1  0  0  0  0  0  0  0  0  3  0  0 12  0  0  0  0  0  0  0  0\n",
            "   0  0  0]\n",
            " [ 0  0  0  0  0  0  0  0  0  0  0  0  0  2  0  0 14  0  0  0  0  0  0  0\n",
            "   0  0  0]\n",
            " [ 0  0  0  0  0  4  3  0  0  0  0  0  2  0  0  0  0  7  0  0  0  0  0  0\n",
            "   0  0  0]\n",
            " [ 0  0  3  1  1  0  0  4  0  0  0  0  2  0  0  0  0  0  5  0  0  0  0  0\n",
            "   0  0  0]\n",
            " [ 0  2  0  0  3  0  0  0  0  0  0  0  0  0  1  0  0  0  2  8  0  0  0  0\n",
            "   0  0  0]\n",
            " [ 0  0  0  0  0  0  0  0  0  0  0  1  0  0  0  0  0  0  0  0 14  0  0  0\n",
            "   0  1  0]\n",
            " [ 0  0  0  0  0  0  0  0  0  0  0  0  0  0  0  0  0  0  0  0  0 10  6  0\n",
            "   0  0  0]\n",
            " [ 0  0  0  0  0  0  0  0  0  0  0  0  0  0  0  0  0  0  0  0  0  0 15  0\n",
            "   0  0  0]\n",
            " [ 0  0  0  0  0  0  0  0  0  0  0  0  0  0  0  0  0  0  0  0  1  0  0 15\n",
            "   0  0  0]\n",
            " [ 0  0  0  0  0  0  0  0  0  0  0  0  0  0  0  0  0  0  0  0  1  0  0  0\n",
            "  15  0  0]\n",
            " [ 0  0  0  0  0  0  0  0  0  0  0  1  0  0  0  0  0  0  0  0  0  0  1  0\n",
            "   0 14  0]\n",
            " [ 0  0  0  0  0  0  0  0  0  0  0  0  0  0  0  0  0  2  0  0  0  0  0  0\n",
            "   0  0 13]]\n",
            "              precision    recall  f1-score   support\n",
            "\n",
            "           0       0.45      0.81      0.58        16\n",
            "           1       0.32      0.38      0.34        16\n",
            "           2       0.70      1.00      0.82        16\n",
            "           3       0.88      0.94      0.91        16\n",
            "           4       0.50      0.31      0.38        16\n",
            "           5       0.76      1.00      0.86        16\n",
            "           6       0.74      0.88      0.80        16\n",
            "           7       0.64      0.56      0.60        16\n",
            "           8       0.00      0.00      0.00        16\n",
            "           9       0.21      0.38      0.27        16\n",
            "          10       0.67      0.12      0.21        16\n",
            "          11       0.75      0.38      0.50        16\n",
            "          12       0.70      1.00      0.82        16\n",
            "          13       0.70      0.88      0.78        16\n",
            "          14       0.86      0.75      0.80        16\n",
            "          15       1.00      0.75      0.86        16\n",
            "          16       1.00      0.88      0.93        16\n",
            "          17       0.70      0.44      0.54        16\n",
            "          18       0.56      0.31      0.40        16\n",
            "          19       0.53      0.50      0.52        16\n",
            "          20       0.82      0.88      0.85        16\n",
            "          21       1.00      0.62      0.77        16\n",
            "          22       0.60      1.00      0.75        15\n",
            "          23       0.94      0.94      0.94        16\n",
            "          24       1.00      0.94      0.97        16\n",
            "          25       0.56      0.88      0.68        16\n",
            "          26       1.00      0.87      0.93        15\n",
            "\n",
            "    accuracy                           0.68       430\n",
            "   macro avg       0.69      0.68      0.66       430\n",
            "weighted avg       0.69      0.68      0.66       430\n",
            "\n",
            "0.6790697674418604\n"
          ],
          "name": "stdout"
        }
      ]
    },
    {
      "cell_type": "code",
      "metadata": {
        "id": "5YNEigoHcwxC",
        "colab": {
          "base_uri": "https://localhost:8080/",
          "height": 983
        },
        "outputId": "753819ca-9fe1-442f-8d4a-9a60d9ead2de"
      },
      "source": [
        "skplt.metrics.plot_confusion_matrix(tsLbl, y_pred, normalize=True, figsize=(17,17))"
      ],
      "execution_count": null,
      "outputs": [
        {
          "output_type": "execute_result",
          "data": {
            "text/plain": [
              "<matplotlib.axes._subplots.AxesSubplot at 0x7fa2ff7c9d50>"
            ]
          },
          "metadata": {
            "tags": []
          },
          "execution_count": 34
        },
        {
          "output_type": "display_data",
          "data": {
            "image/png": "[encoded data removed]",
            "text/plain": [
              "<Figure size 1224x1224 with 2 Axes>"
            ]
          },
          "metadata": {
            "tags": [],
            "needs_background": "light"
          }
        }
      ]
    },
    {
      "cell_type": "markdown",
      "metadata": {
        "id": "uHrmXFefrITN"
      },
      "source": [
        "# Grid Search"
      ]
    },
    {
      "cell_type": "markdown",
      "metadata": {
        "id": "gnCz9Sjuoctd"
      },
      "source": [
        "## Grid Search - RF"
      ]
    },
    {
      "cell_type": "code",
      "metadata": {
        "id": "6GcKW99Socte"
      },
      "source": [
        "from sklearn.model_selection import GridSearchCV\n",
        "\n",
        "param_grid = { \n",
        "    'n_estimators': [100, 200, 300],\n",
        "    'max_features': [None, 'sqrt', 'log2'],\n",
        "    'max_depth' : [None, 11, 9, 7],\n",
        "    'min_samples_split': [2,3,4],\n",
        "    'min_samples_leaf': [1,2,3],\n",
        "    'class_weight' : ['balanced', 'balanced_subsample', None],\n",
        "    'criterion' :['gini', 'entropy']\n",
        "}\n",
        "rfc = RandomForestClassifier(random_state=0)\n",
        "rfcv = GridSearchCV(estimator=rfc, param_grid=param_grid, cv=5, n_jobs=-1)"
      ],
      "execution_count": null,
      "outputs": []
    },
    {
      "cell_type": "code",
      "metadata": {
        "id": "2K2xkb-Aoctg"
      },
      "source": [
        "rfcv.fit(trDat, trLbl)"
      ],
      "execution_count": null,
      "outputs": []
    },
    {
      "cell_type": "code",
      "metadata": {
        "id": "c5K7wRmIocth",
        "outputId": "37c93bee-fd09-4804-f91b-c743213c99da"
      },
      "source": [
        "print(rfcv.best_params_, rfcv.best_score_)"
      ],
      "execution_count": null,
      "outputs": [
        {
          "output_type": "stream",
          "text": [
            "{'class_weight': 'balanced', 'criterion': 'entropy', 'max_depth': None, 'max_features': 'log2', 'min_samples_leaf': 1, 'min_samples_split': 3, 'n_estimators': 300} 0.8955916473317865\n"
          ],
          "name": "stdout"
        }
      ]
    },
    {
      "cell_type": "code",
      "metadata": {
        "id": "ZmZZgYodocti"
      },
      "source": [
        "y_pred = rfcv.best_estimator_.predict(tsDat)"
      ],
      "execution_count": null,
      "outputs": []
    },
    {
      "cell_type": "code",
      "metadata": {
        "id": "U6f1zH-Voctj",
        "outputId": "1f33fe4a-6c2f-4ccb-96ef-a0b2e05ffb8a"
      },
      "source": [
        "print(confusion_matrix(tsLbl,y_pred))  \n",
        "print(classification_report(tsLbl,y_pred))  \n",
        "print(accuracy_score(tsLbl, y_pred)) "
      ],
      "execution_count": null,
      "outputs": [
        {
          "output_type": "stream",
          "text": [
            "[[16  0  0  0  0  0  0  0  0  0  0  0  0  0  0  0  0  0  0  0  0  0  0  0\n",
            "   0  0  0]\n",
            " [11  5  0  0  0  0  0  0  0  0  0  0  0  0  0  0  0  0  0  0  0  0  0  0\n",
            "   0  0  0]\n",
            " [ 0  0 13  0  0  0  0  0  2  1  0  0  0  0  0  0  0  0  0  0  0  0  0  0\n",
            "   0  0  0]\n",
            " [ 0  0  0 15  0  0  0  0  0  0  0  0  0  0  0  1  0  0  0  0  0  0  0  0\n",
            "   0  0  0]\n",
            " [ 0  0  2  0 11  0  0  0  0  0  0  0  0  0  1  0  0  0  1  1  0  0  0  0\n",
            "   0  0  0]\n",
            " [ 0  0  0  0  0 12  3  0  0  0  0  0  0  0  0  0  0  1  0  0  0  0  0  0\n",
            "   0  0  0]\n",
            " [ 0  0  0  0  0  0 15  0  0  0  0  0  0  0  0  0  1  0  0  0  0  0  0  0\n",
            "   0  0  0]\n",
            " [ 0  0  0  0  0  0  0  8  0  6  1  0  0  0  0  0  0  0  1  0  0  0  0  0\n",
            "   0  0  0]\n",
            " [ 3  5  0  0  0  0  0  0  4  3  0  0  0  0  0  0  0  0  0  1  0  0  0  0\n",
            "   0  0  0]\n",
            " [ 3  4  0  0  0  0  0  0  0  5  4  0  0  0  0  0  0  0  0  0  0  0  0  0\n",
            "   0  0  0]\n",
            " [ 0  0  2  0  0  0  0  0  1  4  9  0  0  0  0  0  0  0  0  0  0  0  0  0\n",
            "   0  0  0]\n",
            " [ 0  0  0  0  0  0  0  0  0  0  0 16  0  0  0  0  0  0  0  0  0  0  0  0\n",
            "   0  0  0]\n",
            " [ 0  0  0  0  0  0  0  0  0  0  0  0 14  1  0  0  1  0  0  0  0  0  0  0\n",
            "   0  0  0]\n",
            " [ 0  0  0  0  0  0  1  0  0  0  0  0  0 11  0  0  4  0  0  0  0  0  0  0\n",
            "   0  0  0]\n",
            " [ 2  0  0  0  0  0  0  0  0  0  0  1  0  0 12  0  0  0  0  1  0  0  0  0\n",
            "   0  0  0]\n",
            " [ 0  0  0  0  0  0  0  0  0  0  0  0  2  0  0 12  0  2  0  0  0  0  0  0\n",
            "   0  0  0]\n",
            " [ 0  0  0  0  0  0  0  0  0  0  0  3  0  0  0  0 12  0  0  0  1  0  0  0\n",
            "   0  0  0]\n",
            " [ 0  0  0  0  0  1  0  0  0  0  0  0  1  0  0  0  0 14  0  0  0  0  0  0\n",
            "   0  0  0]\n",
            " [ 0  0  4  0  1  0  0  0  1  0  0  0  0  0  0  0  0  0  9  1  0  0  0  0\n",
            "   0  0  0]\n",
            " [ 1  2  2  0  0  0  0  0  0  0  0  0  0  0  0  0  0  0  3  8  0  0  0  0\n",
            "   0  0  0]\n",
            " [ 0  0  0  0  0  0  0  0  0  0  0  0  0  0  0  0  0  0  0  0 16  0  0  0\n",
            "   0  0  0]\n",
            " [ 0  0  0  0  0  0  0  0  0  0  0  0  0  0  0  0  0  0  0  0  0 13  3  0\n",
            "   0  0  0]\n",
            " [ 0  0  0  0  0  0  0  0  0  0  0  0  0  0  0  0  0  0  0  0  0  0 15  0\n",
            "   0  0  0]\n",
            " [ 0  0  0  0  0  0  0  0  0  0  0  0  0  0  0  0  0  0  0  0  0  0  0 16\n",
            "   0  0  0]\n",
            " [ 0  0  0  0  0  0  0  0  0  0  0  0  0  0  0  0  0  0  0  0  0  0  0  1\n",
            "  15  0  0]\n",
            " [ 0  0  0  0  0  0  0  0  0  0  0  0  0  0  0  0  0  0  0  0  0  0  0  0\n",
            "   0 16  0]\n",
            " [ 0  0  0  0  0  0  0  0  0  0  0  0  0  0  0  0  0  0  0  0  0  0  0  0\n",
            "   0  0 15]]\n",
            "              precision    recall  f1-score   support\n",
            "\n",
            "           0       0.44      1.00      0.62        16\n",
            "           1       0.31      0.31      0.31        16\n",
            "           2       0.57      0.81      0.67        16\n",
            "           3       1.00      0.94      0.97        16\n",
            "           4       0.92      0.69      0.79        16\n",
            "           5       0.92      0.75      0.83        16\n",
            "           6       0.79      0.94      0.86        16\n",
            "           7       1.00      0.50      0.67        16\n",
            "           8       0.50      0.25      0.33        16\n",
            "           9       0.26      0.31      0.29        16\n",
            "          10       0.64      0.56      0.60        16\n",
            "          11       0.80      1.00      0.89        16\n",
            "          12       0.82      0.88      0.85        16\n",
            "          13       0.92      0.69      0.79        16\n",
            "          14       0.92      0.75      0.83        16\n",
            "          15       0.92      0.75      0.83        16\n",
            "          16       0.67      0.75      0.71        16\n",
            "          17       0.82      0.88      0.85        16\n",
            "          18       0.64      0.56      0.60        16\n",
            "          19       0.67      0.50      0.57        16\n",
            "          20       0.94      1.00      0.97        16\n",
            "          21       1.00      0.81      0.90        16\n",
            "          22       0.83      1.00      0.91        15\n",
            "          23       0.94      1.00      0.97        16\n",
            "          24       1.00      0.94      0.97        16\n",
            "          25       1.00      1.00      1.00        16\n",
            "          26       1.00      1.00      1.00        15\n",
            "\n",
            "    accuracy                           0.76       430\n",
            "   macro avg       0.79      0.76      0.76       430\n",
            "weighted avg       0.79      0.76      0.76       430\n",
            "\n",
            "0.7604651162790698\n"
          ],
          "name": "stdout"
        }
      ]
    },
    {
      "cell_type": "code",
      "metadata": {
        "id": "DHjOpnrno-eK"
      },
      "source": [
        ""
      ],
      "execution_count": null,
      "outputs": []
    },
    {
      "cell_type": "markdown",
      "metadata": {
        "id": "z2BQvZ1Loctp"
      },
      "source": [
        "## Grid Search XGB"
      ]
    },
    {
      "cell_type": "code",
      "metadata": {
        "id": "0THsqY0eoctp"
      },
      "source": [
        "from sklearn.model_selection import GridSearchCV\n",
        "\n",
        "cv_params = {'max_depth': [3,5,7], 'min_child_weight': [1,3,5], \n",
        "             'subsample': [0.6, 0.75, 0.9], 'colsample_bytree': [0.6, 0.8, 1]}\n",
        "                        \n",
        "ind_params = {'learning_rate': 0.1, 'n_estimators': 500, 'seed':27, \n",
        "              'subsample': 0.75, 'colsample_bytree': 1, 'booster': 'gbtree',\n",
        "             'objective': 'multi:softmax'}\n",
        "xgbcv = GridSearchCV(XGBClassifier(**ind_params), \n",
        "                     cv_params, \n",
        "                     scoring = 'accuracy', cv = 5, n_jobs = -1) "
      ],
      "execution_count": null,
      "outputs": []
    },
    {
      "cell_type": "code",
      "metadata": {
        "id": "uabJ37wxoctq",
        "outputId": "ce1b44b6-62f8-42c3-aff9-98ea26f5c315"
      },
      "source": [
        "xgbcv.fit(trDat, trLbl)"
      ],
      "execution_count": null,
      "outputs": [
        {
          "output_type": "stream",
          "text": [
            "/home/ubudgie/miniconda3/envs/tf2gpu/lib/python3.7/site-packages/sklearn/model_selection/_search.py:813: DeprecationWarning: The default of the `iid` parameter will change from True to False in version 0.22 and will be removed in 0.24. This will change numeric results when test-set sizes are unequal.\n",
            "  DeprecationWarning)\n"
          ],
          "name": "stderr"
        },
        {
          "output_type": "execute_result",
          "data": {
            "text/plain": [
              "GridSearchCV(cv=5, error_score='raise-deprecating',\n",
              "             estimator=XGBClassifier(base_score=0.5, booster='gbtree',\n",
              "                                     colsample_bylevel=1, colsample_bynode=1,\n",
              "                                     colsample_bytree=1, gamma=0,\n",
              "                                     learning_rate=0.1, max_delta_step=0,\n",
              "                                     max_depth=3, min_child_weight=1,\n",
              "                                     missing=None, n_estimators=500, n_jobs=1,\n",
              "                                     nthread=None, objective='multi:softmax',\n",
              "                                     random_state=0, reg_alpha=0, reg_lambda=1,\n",
              "                                     scale_pos_weight=1, seed=27, silent=None,\n",
              "                                     subsample=0.75, verbosity=1),\n",
              "             iid='warn', n_jobs=-1,\n",
              "             param_grid={'colsample_bytree': [0.6, 0.8, 1],\n",
              "                         'max_depth': [3, 5, 7], 'min_child_weight': [1, 3, 5],\n",
              "                         'subsample': [0.6, 0.75, 0.9]},\n",
              "             pre_dispatch='2*n_jobs', refit=True, return_train_score=False,\n",
              "             scoring='accuracy', verbose=0)"
            ]
          },
          "metadata": {
            "tags": []
          },
          "execution_count": 28
        }
      ]
    },
    {
      "cell_type": "code",
      "metadata": {
        "id": "6MOI8WdOoctr",
        "outputId": "e6952948-eb49-49f2-b36a-82bf344f28f8"
      },
      "source": [
        "# Mean cross-validated score of the best_estimator\n",
        "print(xgbcv.best_params_, np.sqrt(np.abs(xgbcv.best_score_))), \n",
        "print(np.sqrt(np.abs(xgbcv.score(trDat, trLbl))))"
      ],
      "execution_count": null,
      "outputs": [
        {
          "output_type": "stream",
          "text": [
            "{'colsample_bytree': 0.6, 'max_depth': 5, 'min_child_weight': 1, 'subsample': 0.6} 0.9050002884208178\n",
            "1.0\n"
          ],
          "name": "stdout"
        }
      ]
    },
    {
      "cell_type": "code",
      "metadata": {
        "id": "0tsuBUL9octs"
      },
      "source": [
        "y_pred = xgbcv.best_estimator_.predict(tsDat)"
      ],
      "execution_count": null,
      "outputs": []
    },
    {
      "cell_type": "code",
      "metadata": {
        "id": "hnRQ6VBGoctv",
        "outputId": "5741461b-072b-4471-8f69-4ed0dfa049f4"
      },
      "source": [
        "print(confusion_matrix(tsLbl,y_pred))  \n",
        "print(classification_report(tsLbl,y_pred))  \n",
        "print(accuracy_score(tsLbl, y_pred)) "
      ],
      "execution_count": null,
      "outputs": [
        {
          "output_type": "stream",
          "text": [
            "[[14  0  0  0  0  0  0  0  0  2  0  0  0  0  0  0  0  0  0  0  0  0  0  0\n",
            "   0  0  0]\n",
            " [11  5  0  0  0  0  0  0  0  0  0  0  0  0  0  0  0  0  0  0  0  0  0  0\n",
            "   0  0  0]\n",
            " [ 0  0 13  0  0  0  0  0  1  2  0  0  0  0  0  0  0  0  0  0  0  0  0  0\n",
            "   0  0  0]\n",
            " [ 0  0  0 13  0  3  0  0  0  0  0  0  0  0  0  0  0  0  0  0  0  0  0  0\n",
            "   0  0  0]\n",
            " [ 0  0  0  0  7  0  0  0  2  0  0  0  0  0  1  0  0  0  4  2  0  0  0  0\n",
            "   0  0  0]\n",
            " [ 0  0  0  0  0 15  1  0  0  0  0  0  0  0  0  0  0  0  0  0  0  0  0  0\n",
            "   0  0  0]\n",
            " [ 0  0  0  0  0  0 15  0  0  0  0  0  0  0  0  0  1  0  0  0  0  0  0  0\n",
            "   0  0  0]\n",
            " [ 0  0  1  0  0  0  0  5  0  7  2  0  0  0  0  0  0  0  1  0  0  0  0  0\n",
            "   0  0  0]\n",
            " [ 2  4  0  0  0  0  0  0  4  3  1  0  0  0  0  0  0  0  0  2  0  0  0  0\n",
            "   0  0  0]\n",
            " [ 1  2  1  0  0  0  0  0  3  6  2  0  0  0  0  0  0  0  0  1  0  0  0  0\n",
            "   0  0  0]\n",
            " [ 0  0  2  0  1  0  0  0  1  3  9  0  0  0  0  0  0  0  0  0  0  0  0  0\n",
            "   0  0  0]\n",
            " [ 0  0  0  0  0  0  0  0  0  0  0 10  0  0  6  0  0  0  0  0  0  0  0  0\n",
            "   0  0  0]\n",
            " [ 0  0  0  0  0  0  0  0  0  0  0  0 12  3  0  0  0  1  0  0  0  0  0  0\n",
            "   0  0  0]\n",
            " [ 0  0  0  0  0  0  2  0  0  0  0  0  0 12  0  0  2  0  0  0  0  0  0  0\n",
            "   0  0  0]\n",
            " [ 2  0  0  0  0  0  0  0  0  0  0  2  0  0 11  0  0  0  0  0  1  0  0  0\n",
            "   0  0  0]\n",
            " [ 0  0  0  0  0  0  0  0  0  0  0  0  2  0  0  8  0  6  0  0  0  0  0  0\n",
            "   0  0  0]\n",
            " [ 0  0  0  0  0  0  0  0  0  0  0  1  0  2  0  0 10  0  0  0  3  0  0  0\n",
            "   0  0  0]\n",
            " [ 0  0  0  0  0  1  3  0  0  0  0  0  0  0  0  0  0 12  0  0  0  0  0  0\n",
            "   0  0  0]\n",
            " [ 0  0  3  0  1  0  0  1  0  0  0  0  0  0  0  0  0  0 10  1  0  0  0  0\n",
            "   0  0  0]\n",
            " [ 1  4  0  0  1  0  0  0  0  0  0  0  0  0  0  0  0  0  3  7  0  0  0  0\n",
            "   0  0  0]\n",
            " [ 0  0  0  0  0  0  0  0  0  0  0  0  0  0  0  0  0  0  0  0 16  0  0  0\n",
            "   0  0  0]\n",
            " [ 0  0  1  0  0  0  0  0  0  0  0  0  0  0  0  0  0  0  0  0  0 12  3  0\n",
            "   0  0  0]\n",
            " [ 0  0  0  0  0  0  0  0  0  0  0  0  0  0  0  0  0  0  0  0  0  2 13  0\n",
            "   0  0  0]\n",
            " [ 0  0  0  0  0  0  0  0  0  0  0  0  0  0  0  0  0  0  0  0  0  0  0 16\n",
            "   0  0  0]\n",
            " [ 0  0  0  0  0  0  0  0  0  0  0  0  0  0  0  0  0  0  0  0  1  0  0  0\n",
            "  15  0  0]\n",
            " [ 0  0  0  0  0  0  0  0  0  0  0  0  0  0  0  0  0  0  0  0  0  0  0  0\n",
            "   0 16  0]\n",
            " [ 1  0  0  0  0  0  0  0  0  0  0  0  0  0  0  0  0  1  0  0  0  0  0  0\n",
            "   0  0 13]]\n",
            "              precision    recall  f1-score   support\n",
            "\n",
            "           0       0.44      0.88      0.58        16\n",
            "           1       0.33      0.31      0.32        16\n",
            "           2       0.62      0.81      0.70        16\n",
            "           3       1.00      0.81      0.90        16\n",
            "           4       0.70      0.44      0.54        16\n",
            "           5       0.79      0.94      0.86        16\n",
            "           6       0.71      0.94      0.81        16\n",
            "           7       0.83      0.31      0.45        16\n",
            "           8       0.36      0.25      0.30        16\n",
            "           9       0.26      0.38      0.31        16\n",
            "          10       0.64      0.56      0.60        16\n",
            "          11       0.77      0.62      0.69        16\n",
            "          12       0.86      0.75      0.80        16\n",
            "          13       0.71      0.75      0.73        16\n",
            "          14       0.61      0.69      0.65        16\n",
            "          15       1.00      0.50      0.67        16\n",
            "          16       0.77      0.62      0.69        16\n",
            "          17       0.60      0.75      0.67        16\n",
            "          18       0.56      0.62      0.59        16\n",
            "          19       0.54      0.44      0.48        16\n",
            "          20       0.76      1.00      0.86        16\n",
            "          21       0.86      0.75      0.80        16\n",
            "          22       0.81      0.87      0.84        15\n",
            "          23       1.00      1.00      1.00        16\n",
            "          24       1.00      0.94      0.97        16\n",
            "          25       1.00      1.00      1.00        16\n",
            "          26       1.00      0.87      0.93        15\n",
            "\n",
            "    accuracy                           0.70       430\n",
            "   macro avg       0.72      0.70      0.69       430\n",
            "weighted avg       0.72      0.70      0.69       430\n",
            "\n",
            "0.6953488372093023\n"
          ],
          "name": "stdout"
        }
      ]
    }
  ]
}